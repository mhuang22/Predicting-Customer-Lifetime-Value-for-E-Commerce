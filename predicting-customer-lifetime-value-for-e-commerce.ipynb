{
 "cells": [
  {
   "cell_type": "markdown",
   "id": "3cb753e4",
   "metadata": {
    "papermill": {
     "duration": 0.053832,
     "end_time": "2021-10-13T21:48:04.897924",
     "exception": false,
     "start_time": "2021-10-13T21:48:04.844092",
     "status": "completed"
    },
    "tags": []
   },
   "source": [
    "# Objectives\n",
    "\n",
    "Build a probabilistic model to predict customer lifetime value for non-contractual business \n",
    "\n",
    "* Find out who are most likely to buy again \n",
    "* Estimate Customer Lifetime Value\n",
    "* Calculate expected average profit per customer "
   ]
  },
  {
   "cell_type": "markdown",
   "id": "39d80c9c",
   "metadata": {
    "papermill": {
     "duration": 0.042062,
     "end_time": "2021-10-13T21:48:04.986876",
     "exception": false,
     "start_time": "2021-10-13T21:48:04.944814",
     "status": "completed"
    },
    "tags": []
   },
   "source": [
    "# Data Scource\n",
    "Brazilian E-Commerce Public Dataset by Olist \n",
    "<br /> 100,000 Orders with product, customer and reviews info\n",
    "<br /> https://www.kaggle.com/olistbr/brazilian-ecommerce?select=olist_order_items_dataset.csv"
   ]
  },
  {
   "cell_type": "markdown",
   "id": "b2f22ced",
   "metadata": {
    "papermill": {
     "duration": 0.04014,
     "end_time": "2021-10-13T21:48:05.067637",
     "exception": false,
     "start_time": "2021-10-13T21:48:05.027497",
     "status": "completed"
    },
    "tags": []
   },
   "source": [
    "# Frequency & Recency Analysis using BG/NBD Model\n",
    "\n",
    "#### BG/NBD Model 5 Assumptions:\n",
    "1. While active, the number of transactions made by a customer follows a Poisson process with transaction rate . This is equivalent to assuming that the time between transactions is distributed exponential with transaction rate λ\n",
    "2. Heterogeneity in  follows a gamma distribution with pdf\n",
    "3. After any transaction, a customer becomes inactive with probability p. Therefore, the point at which the customer “drops out” is distributed across transactions according to a (shifted) geometric distribution with pmf P inactive immediately after jth transaction\n",
    "4. Heterogeneity in p follows a beta distribution with pdf\n",
    "5. The transaction rate and the dropout probability p vary independently across customers\n",
    "\n",
    "#### The following nomenclature is used:\n",
    "\n",
    "**Frequency** represents the number of repeat purchases the customer has made. This means that it’s one less than the total number of purchases. This is actually slightly wrong. It’s the count of time periods the customer had a purchase in. So if using days as units, then it’s the count of days the customer had a purchase on.\n",
    "\n",
    "**T** represents the age of the customer in whatever time units chosen (weekly, in the above dataset). This is equal to the duration between a customer’s first purchase and the end of the period under study.\n",
    "\n",
    "**Recency** represents the age of the customer when they made their most recent purchases. This is equal to the duration between a customer’s first purchase and their latest purchase. (Thus if they have made only 1 purchase, the recency is 0.)\n",
    "\n",
    "**Monetary** represents the average value of a given customer’s purchases. This is equal to the sum of all a customer’s purchases divided by the total number of purchases. Note that the denominator here is different than the frequency described above.\n",
    "\n"
   ]
  },
  {
   "cell_type": "markdown",
   "id": "dd818823",
   "metadata": {
    "papermill": {
     "duration": 0.043053,
     "end_time": "2021-10-13T21:48:05.154418",
     "exception": false,
     "start_time": "2021-10-13T21:48:05.111365",
     "status": "completed"
    },
    "tags": []
   },
   "source": [
    "# Import Packages and Data Processing \n"
   ]
  },
  {
   "cell_type": "code",
   "execution_count": 1,
   "id": "61d5986d",
   "metadata": {
    "execution": {
     "iopub.execute_input": "2021-10-13T21:48:05.265604Z",
     "iopub.status.busy": "2021-10-13T21:48:05.264737Z",
     "iopub.status.idle": "2021-10-13T21:48:06.182214Z",
     "shell.execute_reply": "2021-10-13T21:48:06.182723Z",
     "shell.execute_reply.started": "2021-10-13T21:21:41.07664Z"
    },
    "papermill": {
     "duration": 0.975345,
     "end_time": "2021-10-13T21:48:06.183021",
     "exception": false,
     "start_time": "2021-10-13T21:48:05.207676",
     "status": "completed"
    },
    "tags": []
   },
   "outputs": [],
   "source": [
    "import pandas as pd\n",
    "import numpy as np\n",
    "import matplotlib.pyplot as plt\n",
    "import seaborn as sns\n",
    "import warnings\n",
    "import datetime as dt\n",
    "warnings.filterwarnings(\"ignore\", category=DeprecationWarning)\n",
    "warnings.simplefilter(\"ignore\")"
   ]
  },
  {
   "cell_type": "code",
   "execution_count": 2,
   "id": "f487dfeb",
   "metadata": {
    "execution": {
     "iopub.execute_input": "2021-10-13T21:48:06.270172Z",
     "iopub.status.busy": "2021-10-13T21:48:06.269498Z",
     "iopub.status.idle": "2021-10-13T21:48:08.033644Z",
     "shell.execute_reply": "2021-10-13T21:48:08.032927Z",
     "shell.execute_reply.started": "2021-10-13T21:21:41.084024Z"
    },
    "papermill": {
     "duration": 1.809722,
     "end_time": "2021-10-13T21:48:08.033790",
     "exception": false,
     "start_time": "2021-10-13T21:48:06.224068",
     "status": "completed"
    },
    "tags": []
   },
   "outputs": [],
   "source": [
    "customers_raw = pd.read_csv(\"../input/brazilian-ecommerce/olist_customers_dataset.csv\")\n",
    "orders_raw = pd.read_csv(\"../input/brazilian-ecommerce/olist_orders_dataset.csv\", parse_dates = ['order_purchase_timestamp'])\n",
    "orderItems_raw = pd.read_csv(\"../input/brazilian-ecommerce/olist_order_items_dataset.csv\")"
   ]
  },
  {
   "cell_type": "code",
   "execution_count": 3,
   "id": "4babf77d",
   "metadata": {
    "execution": {
     "iopub.execute_input": "2021-10-13T21:48:08.124636Z",
     "iopub.status.busy": "2021-10-13T21:48:08.123972Z",
     "iopub.status.idle": "2021-10-13T21:48:08.424494Z",
     "shell.execute_reply": "2021-10-13T21:48:08.424996Z",
     "shell.execute_reply.started": "2021-10-13T21:21:42.281212Z"
    },
    "papermill": {
     "duration": 0.350528,
     "end_time": "2021-10-13T21:48:08.425161",
     "exception": false,
     "start_time": "2021-10-13T21:48:08.074633",
     "status": "completed"
    },
    "tags": []
   },
   "outputs": [
    {
     "name": "stdout",
     "output_type": "stream",
     "text": [
      "<class 'pandas.core.frame.DataFrame'>\n",
      "RangeIndex: 99441 entries, 0 to 99440\n",
      "Data columns (total 5 columns):\n",
      " #   Column                    Non-Null Count  Dtype \n",
      "---  ------                    --------------  ----- \n",
      " 0   customer_id               99441 non-null  object\n",
      " 1   customer_unique_id        99441 non-null  object\n",
      " 2   customer_zip_code_prefix  99441 non-null  int64 \n",
      " 3   customer_city             99441 non-null  object\n",
      " 4   customer_state            99441 non-null  object\n",
      "dtypes: int64(1), object(4)\n",
      "memory usage: 3.8+ MB\n"
     ]
    },
    {
     "data": {
      "text/html": [
       "<div>\n",
       "<style scoped>\n",
       "    .dataframe tbody tr th:only-of-type {\n",
       "        vertical-align: middle;\n",
       "    }\n",
       "\n",
       "    .dataframe tbody tr th {\n",
       "        vertical-align: top;\n",
       "    }\n",
       "\n",
       "    .dataframe thead th {\n",
       "        text-align: right;\n",
       "    }\n",
       "</style>\n",
       "<table border=\"1\" class=\"dataframe\">\n",
       "  <thead>\n",
       "    <tr style=\"text-align: right;\">\n",
       "      <th></th>\n",
       "      <th>customer_id</th>\n",
       "      <th>customer_unique_id</th>\n",
       "      <th>customer_zip_code_prefix</th>\n",
       "      <th>customer_city</th>\n",
       "      <th>customer_state</th>\n",
       "    </tr>\n",
       "  </thead>\n",
       "  <tbody>\n",
       "    <tr>\n",
       "      <th>count</th>\n",
       "      <td>99441</td>\n",
       "      <td>99441</td>\n",
       "      <td>99441.000000</td>\n",
       "      <td>99441</td>\n",
       "      <td>99441</td>\n",
       "    </tr>\n",
       "    <tr>\n",
       "      <th>unique</th>\n",
       "      <td>99441</td>\n",
       "      <td>96096</td>\n",
       "      <td>NaN</td>\n",
       "      <td>4119</td>\n",
       "      <td>27</td>\n",
       "    </tr>\n",
       "    <tr>\n",
       "      <th>top</th>\n",
       "      <td>06b8999e2fba1a1fbc88172c00ba8bc7</td>\n",
       "      <td>8d50f5eadf50201ccdcedfb9e2ac8455</td>\n",
       "      <td>NaN</td>\n",
       "      <td>sao paulo</td>\n",
       "      <td>SP</td>\n",
       "    </tr>\n",
       "    <tr>\n",
       "      <th>freq</th>\n",
       "      <td>1</td>\n",
       "      <td>17</td>\n",
       "      <td>NaN</td>\n",
       "      <td>15540</td>\n",
       "      <td>41746</td>\n",
       "    </tr>\n",
       "    <tr>\n",
       "      <th>mean</th>\n",
       "      <td>NaN</td>\n",
       "      <td>NaN</td>\n",
       "      <td>35137.474583</td>\n",
       "      <td>NaN</td>\n",
       "      <td>NaN</td>\n",
       "    </tr>\n",
       "    <tr>\n",
       "      <th>std</th>\n",
       "      <td>NaN</td>\n",
       "      <td>NaN</td>\n",
       "      <td>29797.938996</td>\n",
       "      <td>NaN</td>\n",
       "      <td>NaN</td>\n",
       "    </tr>\n",
       "    <tr>\n",
       "      <th>min</th>\n",
       "      <td>NaN</td>\n",
       "      <td>NaN</td>\n",
       "      <td>1003.000000</td>\n",
       "      <td>NaN</td>\n",
       "      <td>NaN</td>\n",
       "    </tr>\n",
       "    <tr>\n",
       "      <th>25%</th>\n",
       "      <td>NaN</td>\n",
       "      <td>NaN</td>\n",
       "      <td>11347.000000</td>\n",
       "      <td>NaN</td>\n",
       "      <td>NaN</td>\n",
       "    </tr>\n",
       "    <tr>\n",
       "      <th>50%</th>\n",
       "      <td>NaN</td>\n",
       "      <td>NaN</td>\n",
       "      <td>24416.000000</td>\n",
       "      <td>NaN</td>\n",
       "      <td>NaN</td>\n",
       "    </tr>\n",
       "    <tr>\n",
       "      <th>75%</th>\n",
       "      <td>NaN</td>\n",
       "      <td>NaN</td>\n",
       "      <td>58900.000000</td>\n",
       "      <td>NaN</td>\n",
       "      <td>NaN</td>\n",
       "    </tr>\n",
       "    <tr>\n",
       "      <th>max</th>\n",
       "      <td>NaN</td>\n",
       "      <td>NaN</td>\n",
       "      <td>99990.000000</td>\n",
       "      <td>NaN</td>\n",
       "      <td>NaN</td>\n",
       "    </tr>\n",
       "  </tbody>\n",
       "</table>\n",
       "</div>"
      ],
      "text/plain": [
       "                             customer_id                customer_unique_id  \\\n",
       "count                              99441                             99441   \n",
       "unique                             99441                             96096   \n",
       "top     06b8999e2fba1a1fbc88172c00ba8bc7  8d50f5eadf50201ccdcedfb9e2ac8455   \n",
       "freq                                   1                                17   \n",
       "mean                                 NaN                               NaN   \n",
       "std                                  NaN                               NaN   \n",
       "min                                  NaN                               NaN   \n",
       "25%                                  NaN                               NaN   \n",
       "50%                                  NaN                               NaN   \n",
       "75%                                  NaN                               NaN   \n",
       "max                                  NaN                               NaN   \n",
       "\n",
       "        customer_zip_code_prefix customer_city customer_state  \n",
       "count               99441.000000         99441          99441  \n",
       "unique                       NaN          4119             27  \n",
       "top                          NaN     sao paulo             SP  \n",
       "freq                         NaN         15540          41746  \n",
       "mean                35137.474583           NaN            NaN  \n",
       "std                 29797.938996           NaN            NaN  \n",
       "min                  1003.000000           NaN            NaN  \n",
       "25%                 11347.000000           NaN            NaN  \n",
       "50%                 24416.000000           NaN            NaN  \n",
       "75%                 58900.000000           NaN            NaN  \n",
       "max                 99990.000000           NaN            NaN  "
      ]
     },
     "execution_count": 3,
     "metadata": {},
     "output_type": "execute_result"
    }
   ],
   "source": [
    "# Check the structure of the data\n",
    "customers_raw.info()\n",
    "# Inspect the data\n",
    "customers_raw.describe(include='all')"
   ]
  },
  {
   "cell_type": "code",
   "execution_count": 4,
   "id": "2f70969b",
   "metadata": {
    "execution": {
     "iopub.execute_input": "2021-10-13T21:48:08.512220Z",
     "iopub.status.busy": "2021-10-13T21:48:08.511606Z",
     "iopub.status.idle": "2021-10-13T21:48:08.524069Z",
     "shell.execute_reply": "2021-10-13T21:48:08.524601Z",
     "shell.execute_reply.started": "2021-10-13T21:21:42.566425Z"
    },
    "papermill": {
     "duration": 0.057268,
     "end_time": "2021-10-13T21:48:08.524773",
     "exception": false,
     "start_time": "2021-10-13T21:48:08.467505",
     "status": "completed"
    },
    "tags": []
   },
   "outputs": [
    {
     "data": {
      "text/html": [
       "<div>\n",
       "<style scoped>\n",
       "    .dataframe tbody tr th:only-of-type {\n",
       "        vertical-align: middle;\n",
       "    }\n",
       "\n",
       "    .dataframe tbody tr th {\n",
       "        vertical-align: top;\n",
       "    }\n",
       "\n",
       "    .dataframe thead th {\n",
       "        text-align: right;\n",
       "    }\n",
       "</style>\n",
       "<table border=\"1\" class=\"dataframe\">\n",
       "  <thead>\n",
       "    <tr style=\"text-align: right;\">\n",
       "      <th></th>\n",
       "      <th>customer_id</th>\n",
       "      <th>customer_unique_id</th>\n",
       "    </tr>\n",
       "  </thead>\n",
       "  <tbody>\n",
       "    <tr>\n",
       "      <th>0</th>\n",
       "      <td>06b8999e2fba1a1fbc88172c00ba8bc7</td>\n",
       "      <td>861eff4711a542e4b93843c6dd7febb0</td>\n",
       "    </tr>\n",
       "    <tr>\n",
       "      <th>1</th>\n",
       "      <td>18955e83d337fd6b2def6b18a428ac77</td>\n",
       "      <td>290c77bc529b7ac935b93aa66c333dc3</td>\n",
       "    </tr>\n",
       "    <tr>\n",
       "      <th>2</th>\n",
       "      <td>4e7b3e00288586ebd08712fdd0374a03</td>\n",
       "      <td>060e732b5b29e8181a18229c7b0b2b5e</td>\n",
       "    </tr>\n",
       "    <tr>\n",
       "      <th>3</th>\n",
       "      <td>b2b6027bc5c5109e529d4dc6358b12c3</td>\n",
       "      <td>259dac757896d24d7702b9acbbff3f3c</td>\n",
       "    </tr>\n",
       "    <tr>\n",
       "      <th>4</th>\n",
       "      <td>4f2d8ab171c80ec8364f7c12e35b23ad</td>\n",
       "      <td>345ecd01c38d18a9036ed96c73b8d066</td>\n",
       "    </tr>\n",
       "  </tbody>\n",
       "</table>\n",
       "</div>"
      ],
      "text/plain": [
       "                        customer_id                customer_unique_id\n",
       "0  06b8999e2fba1a1fbc88172c00ba8bc7  861eff4711a542e4b93843c6dd7febb0\n",
       "1  18955e83d337fd6b2def6b18a428ac77  290c77bc529b7ac935b93aa66c333dc3\n",
       "2  4e7b3e00288586ebd08712fdd0374a03  060e732b5b29e8181a18229c7b0b2b5e\n",
       "3  b2b6027bc5c5109e529d4dc6358b12c3  259dac757896d24d7702b9acbbff3f3c\n",
       "4  4f2d8ab171c80ec8364f7c12e35b23ad  345ecd01c38d18a9036ed96c73b8d066"
      ]
     },
     "execution_count": 4,
     "metadata": {},
     "output_type": "execute_result"
    }
   ],
   "source": [
    "customers = customers_raw[['customer_id', 'customer_unique_id']]\n",
    "customers.head()"
   ]
  },
  {
   "cell_type": "code",
   "execution_count": 5,
   "id": "ff7a74aa",
   "metadata": {
    "execution": {
     "iopub.execute_input": "2021-10-13T21:48:08.613899Z",
     "iopub.status.busy": "2021-10-13T21:48:08.613183Z",
     "iopub.status.idle": "2021-10-13T21:48:09.157359Z",
     "shell.execute_reply": "2021-10-13T21:48:09.157832Z",
     "shell.execute_reply.started": "2021-10-13T21:21:42.580386Z"
    },
    "papermill": {
     "duration": 0.591119,
     "end_time": "2021-10-13T21:48:09.158020",
     "exception": false,
     "start_time": "2021-10-13T21:48:08.566901",
     "status": "completed"
    },
    "tags": []
   },
   "outputs": [
    {
     "name": "stdout",
     "output_type": "stream",
     "text": [
      "<class 'pandas.core.frame.DataFrame'>\n",
      "RangeIndex: 99441 entries, 0 to 99440\n",
      "Data columns (total 8 columns):\n",
      " #   Column                         Non-Null Count  Dtype         \n",
      "---  ------                         --------------  -----         \n",
      " 0   order_id                       99441 non-null  object        \n",
      " 1   customer_id                    99441 non-null  object        \n",
      " 2   order_status                   99441 non-null  object        \n",
      " 3   order_purchase_timestamp       99441 non-null  datetime64[ns]\n",
      " 4   order_approved_at              99281 non-null  object        \n",
      " 5   order_delivered_carrier_date   97658 non-null  object        \n",
      " 6   order_delivered_customer_date  96476 non-null  object        \n",
      " 7   order_estimated_delivery_date  99441 non-null  object        \n",
      "dtypes: datetime64[ns](1), object(7)\n",
      "memory usage: 6.1+ MB\n"
     ]
    },
    {
     "data": {
      "text/html": [
       "<div>\n",
       "<style scoped>\n",
       "    .dataframe tbody tr th:only-of-type {\n",
       "        vertical-align: middle;\n",
       "    }\n",
       "\n",
       "    .dataframe tbody tr th {\n",
       "        vertical-align: top;\n",
       "    }\n",
       "\n",
       "    .dataframe thead th {\n",
       "        text-align: right;\n",
       "    }\n",
       "</style>\n",
       "<table border=\"1\" class=\"dataframe\">\n",
       "  <thead>\n",
       "    <tr style=\"text-align: right;\">\n",
       "      <th></th>\n",
       "      <th>order_id</th>\n",
       "      <th>customer_id</th>\n",
       "      <th>order_status</th>\n",
       "      <th>order_purchase_timestamp</th>\n",
       "      <th>order_approved_at</th>\n",
       "      <th>order_delivered_carrier_date</th>\n",
       "      <th>order_delivered_customer_date</th>\n",
       "      <th>order_estimated_delivery_date</th>\n",
       "    </tr>\n",
       "  </thead>\n",
       "  <tbody>\n",
       "    <tr>\n",
       "      <th>count</th>\n",
       "      <td>99441</td>\n",
       "      <td>99441</td>\n",
       "      <td>99441</td>\n",
       "      <td>99441</td>\n",
       "      <td>99281</td>\n",
       "      <td>97658</td>\n",
       "      <td>96476</td>\n",
       "      <td>99441</td>\n",
       "    </tr>\n",
       "    <tr>\n",
       "      <th>unique</th>\n",
       "      <td>99441</td>\n",
       "      <td>99441</td>\n",
       "      <td>8</td>\n",
       "      <td>98875</td>\n",
       "      <td>90733</td>\n",
       "      <td>81018</td>\n",
       "      <td>95664</td>\n",
       "      <td>459</td>\n",
       "    </tr>\n",
       "    <tr>\n",
       "      <th>top</th>\n",
       "      <td>e481f51cbdc54678b7cc49136f2d6af7</td>\n",
       "      <td>9ef432eb6251297304e76186b10a928d</td>\n",
       "      <td>delivered</td>\n",
       "      <td>2018-04-11 10:48:14</td>\n",
       "      <td>2018-02-27 04:31:10</td>\n",
       "      <td>2018-05-09 15:48:00</td>\n",
       "      <td>2018-05-08 23:38:46</td>\n",
       "      <td>2017-12-20 00:00:00</td>\n",
       "    </tr>\n",
       "    <tr>\n",
       "      <th>freq</th>\n",
       "      <td>1</td>\n",
       "      <td>1</td>\n",
       "      <td>96478</td>\n",
       "      <td>3</td>\n",
       "      <td>9</td>\n",
       "      <td>47</td>\n",
       "      <td>3</td>\n",
       "      <td>522</td>\n",
       "    </tr>\n",
       "    <tr>\n",
       "      <th>first</th>\n",
       "      <td>NaN</td>\n",
       "      <td>NaN</td>\n",
       "      <td>NaN</td>\n",
       "      <td>2016-09-04 21:15:19</td>\n",
       "      <td>NaN</td>\n",
       "      <td>NaN</td>\n",
       "      <td>NaN</td>\n",
       "      <td>NaN</td>\n",
       "    </tr>\n",
       "    <tr>\n",
       "      <th>last</th>\n",
       "      <td>NaN</td>\n",
       "      <td>NaN</td>\n",
       "      <td>NaN</td>\n",
       "      <td>2018-10-17 17:30:18</td>\n",
       "      <td>NaN</td>\n",
       "      <td>NaN</td>\n",
       "      <td>NaN</td>\n",
       "      <td>NaN</td>\n",
       "    </tr>\n",
       "  </tbody>\n",
       "</table>\n",
       "</div>"
      ],
      "text/plain": [
       "                                order_id                       customer_id  \\\n",
       "count                              99441                             99441   \n",
       "unique                             99441                             99441   \n",
       "top     e481f51cbdc54678b7cc49136f2d6af7  9ef432eb6251297304e76186b10a928d   \n",
       "freq                                   1                                 1   \n",
       "first                                NaN                               NaN   \n",
       "last                                 NaN                               NaN   \n",
       "\n",
       "       order_status order_purchase_timestamp    order_approved_at  \\\n",
       "count         99441                    99441                99281   \n",
       "unique            8                    98875                90733   \n",
       "top       delivered      2018-04-11 10:48:14  2018-02-27 04:31:10   \n",
       "freq          96478                        3                    9   \n",
       "first           NaN      2016-09-04 21:15:19                  NaN   \n",
       "last            NaN      2018-10-17 17:30:18                  NaN   \n",
       "\n",
       "       order_delivered_carrier_date order_delivered_customer_date  \\\n",
       "count                         97658                         96476   \n",
       "unique                        81018                         95664   \n",
       "top             2018-05-09 15:48:00           2018-05-08 23:38:46   \n",
       "freq                             47                             3   \n",
       "first                           NaN                           NaN   \n",
       "last                            NaN                           NaN   \n",
       "\n",
       "       order_estimated_delivery_date  \n",
       "count                          99441  \n",
       "unique                           459  \n",
       "top              2017-12-20 00:00:00  \n",
       "freq                             522  \n",
       "first                            NaN  \n",
       "last                             NaN  "
      ]
     },
     "execution_count": 5,
     "metadata": {},
     "output_type": "execute_result"
    }
   ],
   "source": [
    "# Check the structure of the data\n",
    "orders_raw.info()\n",
    "# Inspect the data\n",
    "orders_raw.describe(include='all')"
   ]
  },
  {
   "cell_type": "markdown",
   "id": "91f0ee20",
   "metadata": {
    "papermill": {
     "duration": 0.043246,
     "end_time": "2021-10-13T21:48:09.243990",
     "exception": false,
     "start_time": "2021-10-13T21:48:09.200744",
     "status": "completed"
    },
    "tags": []
   },
   "source": [
    "Filter orders by order_status. Here we will exclude orders with 'canceled' as order_status. We have to consider fraud in real live situation. Since we don't have much information about the status in this dataset, we are going to be inclusive about the orders. \n",
    "\n",
    "We will use order_purchase_timestamp as date"
   ]
  },
  {
   "cell_type": "code",
   "execution_count": 6,
   "id": "71de2a55",
   "metadata": {
    "execution": {
     "iopub.execute_input": "2021-10-13T21:48:09.332953Z",
     "iopub.status.busy": "2021-10-13T21:48:09.332223Z",
     "iopub.status.idle": "2021-10-13T21:48:09.346465Z",
     "shell.execute_reply": "2021-10-13T21:48:09.345945Z",
     "shell.execute_reply.started": "2021-10-13T21:21:43.146645Z"
    },
    "papermill": {
     "duration": 0.059937,
     "end_time": "2021-10-13T21:48:09.346607",
     "exception": false,
     "start_time": "2021-10-13T21:48:09.286670",
     "status": "completed"
    },
    "tags": []
   },
   "outputs": [
    {
     "data": {
      "text/plain": [
       "array(['delivered', 'invoiced', 'shipped', 'processing', 'unavailable',\n",
       "       'canceled', 'created', 'approved'], dtype=object)"
      ]
     },
     "execution_count": 6,
     "metadata": {},
     "output_type": "execute_result"
    }
   ],
   "source": [
    "orders_raw['order_status'].unique()"
   ]
  },
  {
   "cell_type": "code",
   "execution_count": 7,
   "id": "6d589e67",
   "metadata": {
    "execution": {
     "iopub.execute_input": "2021-10-13T21:48:09.452533Z",
     "iopub.status.busy": "2021-10-13T21:48:09.451841Z",
     "iopub.status.idle": "2021-10-13T21:48:09.541589Z",
     "shell.execute_reply": "2021-10-13T21:48:09.540915Z",
     "shell.execute_reply.started": "2021-10-13T21:21:43.163908Z"
    },
    "papermill": {
     "duration": 0.152189,
     "end_time": "2021-10-13T21:48:09.541727",
     "exception": false,
     "start_time": "2021-10-13T21:48:09.389538",
     "status": "completed"
    },
    "tags": []
   },
   "outputs": [],
   "source": [
    "orders_raw = orders_raw[orders_raw.order_status != 'canceled']\n",
    "orders_raw['date'] = pd.to_datetime(orders_raw['order_purchase_timestamp']).dt.date"
   ]
  },
  {
   "cell_type": "code",
   "execution_count": 8,
   "id": "33dd860c",
   "metadata": {
    "execution": {
     "iopub.execute_input": "2021-10-13T21:48:09.671033Z",
     "iopub.status.busy": "2021-10-13T21:48:09.660370Z",
     "iopub.status.idle": "2021-10-13T21:48:09.682910Z",
     "shell.execute_reply": "2021-10-13T21:48:09.683356Z",
     "shell.execute_reply.started": "2021-10-13T21:21:43.270395Z"
    },
    "papermill": {
     "duration": 0.098506,
     "end_time": "2021-10-13T21:48:09.683539",
     "exception": false,
     "start_time": "2021-10-13T21:48:09.585033",
     "status": "completed"
    },
    "tags": []
   },
   "outputs": [
    {
     "data": {
      "text/html": [
       "<div>\n",
       "<style scoped>\n",
       "    .dataframe tbody tr th:only-of-type {\n",
       "        vertical-align: middle;\n",
       "    }\n",
       "\n",
       "    .dataframe tbody tr th {\n",
       "        vertical-align: top;\n",
       "    }\n",
       "\n",
       "    .dataframe thead th {\n",
       "        text-align: right;\n",
       "    }\n",
       "</style>\n",
       "<table border=\"1\" class=\"dataframe\">\n",
       "  <thead>\n",
       "    <tr style=\"text-align: right;\">\n",
       "      <th></th>\n",
       "      <th>order_id</th>\n",
       "      <th>customer_id</th>\n",
       "      <th>date</th>\n",
       "    </tr>\n",
       "  </thead>\n",
       "  <tbody>\n",
       "    <tr>\n",
       "      <th>0</th>\n",
       "      <td>e481f51cbdc54678b7cc49136f2d6af7</td>\n",
       "      <td>9ef432eb6251297304e76186b10a928d</td>\n",
       "      <td>2017-10-02</td>\n",
       "    </tr>\n",
       "    <tr>\n",
       "      <th>1</th>\n",
       "      <td>53cdb2fc8bc7dce0b6741e2150273451</td>\n",
       "      <td>b0830fb4747a6c6d20dea0b8c802d7ef</td>\n",
       "      <td>2018-07-24</td>\n",
       "    </tr>\n",
       "    <tr>\n",
       "      <th>2</th>\n",
       "      <td>47770eb9100c2d0c44946d9cf07ec65d</td>\n",
       "      <td>41ce2a54c0b03bf3443c3d931a367089</td>\n",
       "      <td>2018-08-08</td>\n",
       "    </tr>\n",
       "    <tr>\n",
       "      <th>3</th>\n",
       "      <td>949d5b44dbf5de918fe9c16f97b45f8a</td>\n",
       "      <td>f88197465ea7920adcdbec7375364d82</td>\n",
       "      <td>2017-11-18</td>\n",
       "    </tr>\n",
       "    <tr>\n",
       "      <th>4</th>\n",
       "      <td>ad21c59c0840e6cb83a9ceb5573f8159</td>\n",
       "      <td>8ab97904e6daea8866dbdbc4fb7aad2c</td>\n",
       "      <td>2018-02-13</td>\n",
       "    </tr>\n",
       "  </tbody>\n",
       "</table>\n",
       "</div>"
      ],
      "text/plain": [
       "                           order_id                       customer_id  \\\n",
       "0  e481f51cbdc54678b7cc49136f2d6af7  9ef432eb6251297304e76186b10a928d   \n",
       "1  53cdb2fc8bc7dce0b6741e2150273451  b0830fb4747a6c6d20dea0b8c802d7ef   \n",
       "2  47770eb9100c2d0c44946d9cf07ec65d  41ce2a54c0b03bf3443c3d931a367089   \n",
       "3  949d5b44dbf5de918fe9c16f97b45f8a  f88197465ea7920adcdbec7375364d82   \n",
       "4  ad21c59c0840e6cb83a9ceb5573f8159  8ab97904e6daea8866dbdbc4fb7aad2c   \n",
       "\n",
       "         date  \n",
       "0  2017-10-02  \n",
       "1  2018-07-24  \n",
       "2  2018-08-08  \n",
       "3  2017-11-18  \n",
       "4  2018-02-13  "
      ]
     },
     "execution_count": 8,
     "metadata": {},
     "output_type": "execute_result"
    }
   ],
   "source": [
    "orders = orders_raw[['order_id', 'customer_id','date']]\n",
    "orders.head()"
   ]
  },
  {
   "cell_type": "code",
   "execution_count": 9,
   "id": "79d09b5f",
   "metadata": {
    "execution": {
     "iopub.execute_input": "2021-10-13T21:48:09.773723Z",
     "iopub.status.busy": "2021-10-13T21:48:09.773110Z",
     "iopub.status.idle": "2021-10-13T21:48:09.844620Z",
     "shell.execute_reply": "2021-10-13T21:48:09.844101Z",
     "shell.execute_reply.started": "2021-10-13T21:21:43.328986Z"
    },
    "papermill": {
     "duration": 0.117673,
     "end_time": "2021-10-13T21:48:09.844762",
     "exception": false,
     "start_time": "2021-10-13T21:48:09.727089",
     "status": "completed"
    },
    "tags": []
   },
   "outputs": [
    {
     "name": "stdout",
     "output_type": "stream",
     "text": [
      "<class 'pandas.core.frame.DataFrame'>\n",
      "RangeIndex: 112650 entries, 0 to 112649\n",
      "Data columns (total 7 columns):\n",
      " #   Column               Non-Null Count   Dtype  \n",
      "---  ------               --------------   -----  \n",
      " 0   order_id             112650 non-null  object \n",
      " 1   order_item_id        112650 non-null  int64  \n",
      " 2   product_id           112650 non-null  object \n",
      " 3   seller_id            112650 non-null  object \n",
      " 4   shipping_limit_date  112650 non-null  object \n",
      " 5   price                112650 non-null  float64\n",
      " 6   freight_value        112650 non-null  float64\n",
      "dtypes: float64(2), int64(1), object(4)\n",
      "memory usage: 6.0+ MB\n"
     ]
    },
    {
     "data": {
      "text/html": [
       "<div>\n",
       "<style scoped>\n",
       "    .dataframe tbody tr th:only-of-type {\n",
       "        vertical-align: middle;\n",
       "    }\n",
       "\n",
       "    .dataframe tbody tr th {\n",
       "        vertical-align: top;\n",
       "    }\n",
       "\n",
       "    .dataframe thead th {\n",
       "        text-align: right;\n",
       "    }\n",
       "</style>\n",
       "<table border=\"1\" class=\"dataframe\">\n",
       "  <thead>\n",
       "    <tr style=\"text-align: right;\">\n",
       "      <th></th>\n",
       "      <th>order_id</th>\n",
       "      <th>order_item_id</th>\n",
       "      <th>product_id</th>\n",
       "      <th>seller_id</th>\n",
       "      <th>shipping_limit_date</th>\n",
       "      <th>price</th>\n",
       "      <th>freight_value</th>\n",
       "    </tr>\n",
       "  </thead>\n",
       "  <tbody>\n",
       "    <tr>\n",
       "      <th>0</th>\n",
       "      <td>00010242fe8c5a6d1ba2dd792cb16214</td>\n",
       "      <td>1</td>\n",
       "      <td>4244733e06e7ecb4970a6e2683c13e61</td>\n",
       "      <td>48436dade18ac8b2bce089ec2a041202</td>\n",
       "      <td>2017-09-19 09:45:35</td>\n",
       "      <td>58.90</td>\n",
       "      <td>13.29</td>\n",
       "    </tr>\n",
       "    <tr>\n",
       "      <th>1</th>\n",
       "      <td>00018f77f2f0320c557190d7a144bdd3</td>\n",
       "      <td>1</td>\n",
       "      <td>e5f2d52b802189ee658865ca93d83a8f</td>\n",
       "      <td>dd7ddc04e1b6c2c614352b383efe2d36</td>\n",
       "      <td>2017-05-03 11:05:13</td>\n",
       "      <td>239.90</td>\n",
       "      <td>19.93</td>\n",
       "    </tr>\n",
       "    <tr>\n",
       "      <th>2</th>\n",
       "      <td>000229ec398224ef6ca0657da4fc703e</td>\n",
       "      <td>1</td>\n",
       "      <td>c777355d18b72b67abbeef9df44fd0fd</td>\n",
       "      <td>5b51032eddd242adc84c38acab88f23d</td>\n",
       "      <td>2018-01-18 14:48:30</td>\n",
       "      <td>199.00</td>\n",
       "      <td>17.87</td>\n",
       "    </tr>\n",
       "    <tr>\n",
       "      <th>3</th>\n",
       "      <td>00024acbcdf0a6daa1e931b038114c75</td>\n",
       "      <td>1</td>\n",
       "      <td>7634da152a4610f1595efa32f14722fc</td>\n",
       "      <td>9d7a1d34a5052409006425275ba1c2b4</td>\n",
       "      <td>2018-08-15 10:10:18</td>\n",
       "      <td>12.99</td>\n",
       "      <td>12.79</td>\n",
       "    </tr>\n",
       "    <tr>\n",
       "      <th>4</th>\n",
       "      <td>00042b26cf59d7ce69dfabb4e55b4fd9</td>\n",
       "      <td>1</td>\n",
       "      <td>ac6c3623068f30de03045865e4e10089</td>\n",
       "      <td>df560393f3a51e74553ab94004ba5c87</td>\n",
       "      <td>2017-02-13 13:57:51</td>\n",
       "      <td>199.90</td>\n",
       "      <td>18.14</td>\n",
       "    </tr>\n",
       "  </tbody>\n",
       "</table>\n",
       "</div>"
      ],
      "text/plain": [
       "                           order_id  order_item_id  \\\n",
       "0  00010242fe8c5a6d1ba2dd792cb16214              1   \n",
       "1  00018f77f2f0320c557190d7a144bdd3              1   \n",
       "2  000229ec398224ef6ca0657da4fc703e              1   \n",
       "3  00024acbcdf0a6daa1e931b038114c75              1   \n",
       "4  00042b26cf59d7ce69dfabb4e55b4fd9              1   \n",
       "\n",
       "                         product_id                         seller_id  \\\n",
       "0  4244733e06e7ecb4970a6e2683c13e61  48436dade18ac8b2bce089ec2a041202   \n",
       "1  e5f2d52b802189ee658865ca93d83a8f  dd7ddc04e1b6c2c614352b383efe2d36   \n",
       "2  c777355d18b72b67abbeef9df44fd0fd  5b51032eddd242adc84c38acab88f23d   \n",
       "3  7634da152a4610f1595efa32f14722fc  9d7a1d34a5052409006425275ba1c2b4   \n",
       "4  ac6c3623068f30de03045865e4e10089  df560393f3a51e74553ab94004ba5c87   \n",
       "\n",
       "   shipping_limit_date   price  freight_value  \n",
       "0  2017-09-19 09:45:35   58.90          13.29  \n",
       "1  2017-05-03 11:05:13  239.90          19.93  \n",
       "2  2018-01-18 14:48:30  199.00          17.87  \n",
       "3  2018-08-15 10:10:18   12.99          12.79  \n",
       "4  2017-02-13 13:57:51  199.90          18.14  "
      ]
     },
     "execution_count": 9,
     "metadata": {},
     "output_type": "execute_result"
    }
   ],
   "source": [
    "orderItems_raw.info()\n",
    "orderItems_raw.head()"
   ]
  },
  {
   "cell_type": "code",
   "execution_count": 10,
   "id": "30035a4d",
   "metadata": {
    "execution": {
     "iopub.execute_input": "2021-10-13T21:48:09.948121Z",
     "iopub.status.busy": "2021-10-13T21:48:09.947427Z",
     "iopub.status.idle": "2021-10-13T21:48:09.981284Z",
     "shell.execute_reply": "2021-10-13T21:48:09.981791Z",
     "shell.execute_reply.started": "2021-10-13T21:21:43.408303Z"
    },
    "papermill": {
     "duration": 0.09286,
     "end_time": "2021-10-13T21:48:09.981968",
     "exception": false,
     "start_time": "2021-10-13T21:48:09.889108",
     "status": "completed"
    },
    "tags": []
   },
   "outputs": [
    {
     "data": {
      "text/plain": [
       "98666"
      ]
     },
     "execution_count": 10,
     "metadata": {},
     "output_type": "execute_result"
    }
   ],
   "source": [
    "orderItems_raw['order_id'].nunique()"
   ]
  },
  {
   "cell_type": "code",
   "execution_count": 11,
   "id": "0144893c",
   "metadata": {
    "execution": {
     "iopub.execute_input": "2021-10-13T21:48:10.080667Z",
     "iopub.status.busy": "2021-10-13T21:48:10.079997Z",
     "iopub.status.idle": "2021-10-13T21:48:10.218496Z",
     "shell.execute_reply": "2021-10-13T21:48:10.218970Z",
     "shell.execute_reply.started": "2021-10-13T21:21:43.454028Z"
    },
    "papermill": {
     "duration": 0.192437,
     "end_time": "2021-10-13T21:48:10.219155",
     "exception": false,
     "start_time": "2021-10-13T21:48:10.026718",
     "status": "completed"
    },
    "tags": []
   },
   "outputs": [
    {
     "data": {
      "text/html": [
       "<div>\n",
       "<style scoped>\n",
       "    .dataframe tbody tr th:only-of-type {\n",
       "        vertical-align: middle;\n",
       "    }\n",
       "\n",
       "    .dataframe tbody tr th {\n",
       "        vertical-align: top;\n",
       "    }\n",
       "\n",
       "    .dataframe thead th {\n",
       "        text-align: right;\n",
       "    }\n",
       "</style>\n",
       "<table border=\"1\" class=\"dataframe\">\n",
       "  <thead>\n",
       "    <tr style=\"text-align: right;\">\n",
       "      <th></th>\n",
       "      <th>order_id</th>\n",
       "      <th>revenue</th>\n",
       "    </tr>\n",
       "  </thead>\n",
       "  <tbody>\n",
       "    <tr>\n",
       "      <th>0</th>\n",
       "      <td>00010242fe8c5a6d1ba2dd792cb16214</td>\n",
       "      <td>58.90</td>\n",
       "    </tr>\n",
       "    <tr>\n",
       "      <th>1</th>\n",
       "      <td>00018f77f2f0320c557190d7a144bdd3</td>\n",
       "      <td>239.90</td>\n",
       "    </tr>\n",
       "    <tr>\n",
       "      <th>2</th>\n",
       "      <td>000229ec398224ef6ca0657da4fc703e</td>\n",
       "      <td>199.00</td>\n",
       "    </tr>\n",
       "    <tr>\n",
       "      <th>3</th>\n",
       "      <td>00024acbcdf0a6daa1e931b038114c75</td>\n",
       "      <td>12.99</td>\n",
       "    </tr>\n",
       "    <tr>\n",
       "      <th>4</th>\n",
       "      <td>00042b26cf59d7ce69dfabb4e55b4fd9</td>\n",
       "      <td>199.90</td>\n",
       "    </tr>\n",
       "    <tr>\n",
       "      <th>...</th>\n",
       "      <td>...</td>\n",
       "      <td>...</td>\n",
       "    </tr>\n",
       "    <tr>\n",
       "      <th>98661</th>\n",
       "      <td>fffc94f6ce00a00581880bf54a75a037</td>\n",
       "      <td>299.99</td>\n",
       "    </tr>\n",
       "    <tr>\n",
       "      <th>98662</th>\n",
       "      <td>fffcd46ef2263f404302a634eb57f7eb</td>\n",
       "      <td>350.00</td>\n",
       "    </tr>\n",
       "    <tr>\n",
       "      <th>98663</th>\n",
       "      <td>fffce4705a9662cd70adb13d4a31832d</td>\n",
       "      <td>99.90</td>\n",
       "    </tr>\n",
       "    <tr>\n",
       "      <th>98664</th>\n",
       "      <td>fffe18544ffabc95dfada21779c9644f</td>\n",
       "      <td>55.99</td>\n",
       "    </tr>\n",
       "    <tr>\n",
       "      <th>98665</th>\n",
       "      <td>fffe41c64501cc87c801fd61db3f6244</td>\n",
       "      <td>43.00</td>\n",
       "    </tr>\n",
       "  </tbody>\n",
       "</table>\n",
       "<p>98666 rows × 2 columns</p>\n",
       "</div>"
      ],
      "text/plain": [
       "                               order_id  revenue\n",
       "0      00010242fe8c5a6d1ba2dd792cb16214    58.90\n",
       "1      00018f77f2f0320c557190d7a144bdd3   239.90\n",
       "2      000229ec398224ef6ca0657da4fc703e   199.00\n",
       "3      00024acbcdf0a6daa1e931b038114c75    12.99\n",
       "4      00042b26cf59d7ce69dfabb4e55b4fd9   199.90\n",
       "...                                 ...      ...\n",
       "98661  fffc94f6ce00a00581880bf54a75a037   299.99\n",
       "98662  fffcd46ef2263f404302a634eb57f7eb   350.00\n",
       "98663  fffce4705a9662cd70adb13d4a31832d    99.90\n",
       "98664  fffe18544ffabc95dfada21779c9644f    55.99\n",
       "98665  fffe41c64501cc87c801fd61db3f6244    43.00\n",
       "\n",
       "[98666 rows x 2 columns]"
      ]
     },
     "execution_count": 11,
     "metadata": {},
     "output_type": "execute_result"
    }
   ],
   "source": [
    "orderTrans = orderItems_raw.groupby(['order_id']).agg({'price':'sum'}).reset_index()\n",
    "orderTrans.rename(columns={'price':'revenue'}, inplace = True)\n",
    "orderTrans"
   ]
  },
  {
   "cell_type": "markdown",
   "id": "6a630142",
   "metadata": {
    "papermill": {
     "duration": 0.044975,
     "end_time": "2021-10-13T21:48:10.310807",
     "exception": false,
     "start_time": "2021-10-13T21:48:10.265832",
     "status": "completed"
    },
    "tags": []
   },
   "source": [
    "Combine Orders dataset with OrderItems dataset to get the revenue of each orders "
   ]
  },
  {
   "cell_type": "code",
   "execution_count": 12,
   "id": "cf9c625a",
   "metadata": {
    "execution": {
     "iopub.execute_input": "2021-10-13T21:48:10.404638Z",
     "iopub.status.busy": "2021-10-13T21:48:10.403993Z",
     "iopub.status.idle": "2021-10-13T21:48:10.519714Z",
     "shell.execute_reply": "2021-10-13T21:48:10.520211Z",
     "shell.execute_reply.started": "2021-10-13T21:21:43.601364Z"
    },
    "papermill": {
     "duration": 0.164247,
     "end_time": "2021-10-13T21:48:10.520409",
     "exception": false,
     "start_time": "2021-10-13T21:48:10.356162",
     "status": "completed"
    },
    "tags": []
   },
   "outputs": [
    {
     "data": {
      "text/html": [
       "<div>\n",
       "<style scoped>\n",
       "    .dataframe tbody tr th:only-of-type {\n",
       "        vertical-align: middle;\n",
       "    }\n",
       "\n",
       "    .dataframe tbody tr th {\n",
       "        vertical-align: top;\n",
       "    }\n",
       "\n",
       "    .dataframe thead th {\n",
       "        text-align: right;\n",
       "    }\n",
       "</style>\n",
       "<table border=\"1\" class=\"dataframe\">\n",
       "  <thead>\n",
       "    <tr style=\"text-align: right;\">\n",
       "      <th></th>\n",
       "      <th>order_id</th>\n",
       "      <th>customer_id</th>\n",
       "      <th>date</th>\n",
       "      <th>revenue</th>\n",
       "    </tr>\n",
       "  </thead>\n",
       "  <tbody>\n",
       "    <tr>\n",
       "      <th>0</th>\n",
       "      <td>e481f51cbdc54678b7cc49136f2d6af7</td>\n",
       "      <td>9ef432eb6251297304e76186b10a928d</td>\n",
       "      <td>2017-10-02</td>\n",
       "      <td>29.99</td>\n",
       "    </tr>\n",
       "    <tr>\n",
       "      <th>1</th>\n",
       "      <td>53cdb2fc8bc7dce0b6741e2150273451</td>\n",
       "      <td>b0830fb4747a6c6d20dea0b8c802d7ef</td>\n",
       "      <td>2018-07-24</td>\n",
       "      <td>118.70</td>\n",
       "    </tr>\n",
       "    <tr>\n",
       "      <th>2</th>\n",
       "      <td>47770eb9100c2d0c44946d9cf07ec65d</td>\n",
       "      <td>41ce2a54c0b03bf3443c3d931a367089</td>\n",
       "      <td>2018-08-08</td>\n",
       "      <td>159.90</td>\n",
       "    </tr>\n",
       "    <tr>\n",
       "      <th>3</th>\n",
       "      <td>949d5b44dbf5de918fe9c16f97b45f8a</td>\n",
       "      <td>f88197465ea7920adcdbec7375364d82</td>\n",
       "      <td>2017-11-18</td>\n",
       "      <td>45.00</td>\n",
       "    </tr>\n",
       "    <tr>\n",
       "      <th>4</th>\n",
       "      <td>ad21c59c0840e6cb83a9ceb5573f8159</td>\n",
       "      <td>8ab97904e6daea8866dbdbc4fb7aad2c</td>\n",
       "      <td>2018-02-13</td>\n",
       "      <td>19.90</td>\n",
       "    </tr>\n",
       "    <tr>\n",
       "      <th>...</th>\n",
       "      <td>...</td>\n",
       "      <td>...</td>\n",
       "      <td>...</td>\n",
       "      <td>...</td>\n",
       "    </tr>\n",
       "    <tr>\n",
       "      <th>98811</th>\n",
       "      <td>9c5dedf39a927c1b2549525ed64a053c</td>\n",
       "      <td>39bd1228ee8140590ac3aca26f2dfe00</td>\n",
       "      <td>2017-03-09</td>\n",
       "      <td>72.00</td>\n",
       "    </tr>\n",
       "    <tr>\n",
       "      <th>98812</th>\n",
       "      <td>63943bddc261676b46f01ca7ac2f7bd8</td>\n",
       "      <td>1fca14ff2861355f6e5f14306ff977a7</td>\n",
       "      <td>2018-02-06</td>\n",
       "      <td>174.90</td>\n",
       "    </tr>\n",
       "    <tr>\n",
       "      <th>98813</th>\n",
       "      <td>83c1379a015df1e13d02aae0204711ab</td>\n",
       "      <td>1aa71eb042121263aafbe80c1b562c9c</td>\n",
       "      <td>2017-08-27</td>\n",
       "      <td>205.99</td>\n",
       "    </tr>\n",
       "    <tr>\n",
       "      <th>98814</th>\n",
       "      <td>11c177c8e97725db2631073c19f07b62</td>\n",
       "      <td>b331b74b18dc79bcdf6532d51e1637c1</td>\n",
       "      <td>2018-01-08</td>\n",
       "      <td>359.98</td>\n",
       "    </tr>\n",
       "    <tr>\n",
       "      <th>98815</th>\n",
       "      <td>66dea50a8b16d9b4dee7af250b4be1a5</td>\n",
       "      <td>edb027a75a1449115f6b43211ae02a24</td>\n",
       "      <td>2018-03-08</td>\n",
       "      <td>68.50</td>\n",
       "    </tr>\n",
       "  </tbody>\n",
       "</table>\n",
       "<p>98816 rows × 4 columns</p>\n",
       "</div>"
      ],
      "text/plain": [
       "                               order_id                       customer_id  \\\n",
       "0      e481f51cbdc54678b7cc49136f2d6af7  9ef432eb6251297304e76186b10a928d   \n",
       "1      53cdb2fc8bc7dce0b6741e2150273451  b0830fb4747a6c6d20dea0b8c802d7ef   \n",
       "2      47770eb9100c2d0c44946d9cf07ec65d  41ce2a54c0b03bf3443c3d931a367089   \n",
       "3      949d5b44dbf5de918fe9c16f97b45f8a  f88197465ea7920adcdbec7375364d82   \n",
       "4      ad21c59c0840e6cb83a9ceb5573f8159  8ab97904e6daea8866dbdbc4fb7aad2c   \n",
       "...                                 ...                               ...   \n",
       "98811  9c5dedf39a927c1b2549525ed64a053c  39bd1228ee8140590ac3aca26f2dfe00   \n",
       "98812  63943bddc261676b46f01ca7ac2f7bd8  1fca14ff2861355f6e5f14306ff977a7   \n",
       "98813  83c1379a015df1e13d02aae0204711ab  1aa71eb042121263aafbe80c1b562c9c   \n",
       "98814  11c177c8e97725db2631073c19f07b62  b331b74b18dc79bcdf6532d51e1637c1   \n",
       "98815  66dea50a8b16d9b4dee7af250b4be1a5  edb027a75a1449115f6b43211ae02a24   \n",
       "\n",
       "             date  revenue  \n",
       "0      2017-10-02    29.99  \n",
       "1      2018-07-24   118.70  \n",
       "2      2018-08-08   159.90  \n",
       "3      2017-11-18    45.00  \n",
       "4      2018-02-13    19.90  \n",
       "...           ...      ...  \n",
       "98811  2017-03-09    72.00  \n",
       "98812  2018-02-06   174.90  \n",
       "98813  2017-08-27   205.99  \n",
       "98814  2018-01-08   359.98  \n",
       "98815  2018-03-08    68.50  \n",
       "\n",
       "[98816 rows x 4 columns]"
      ]
     },
     "execution_count": 12,
     "metadata": {},
     "output_type": "execute_result"
    }
   ],
   "source": [
    "orderDetails = pd.merge(orders, orderTrans, on = 'order_id', how = 'left')\n",
    "orderDetails"
   ]
  },
  {
   "cell_type": "code",
   "execution_count": 13,
   "id": "30fe52de",
   "metadata": {
    "execution": {
     "iopub.execute_input": "2021-10-13T21:48:10.616800Z",
     "iopub.status.busy": "2021-10-13T21:48:10.616152Z",
     "iopub.status.idle": "2021-10-13T21:48:10.734988Z",
     "shell.execute_reply": "2021-10-13T21:48:10.735552Z",
     "shell.execute_reply.started": "2021-10-13T21:21:43.7088Z"
    },
    "papermill": {
     "duration": 0.168491,
     "end_time": "2021-10-13T21:48:10.735725",
     "exception": false,
     "start_time": "2021-10-13T21:48:10.567234",
     "status": "completed"
    },
    "tags": []
   },
   "outputs": [
    {
     "data": {
      "text/html": [
       "<div>\n",
       "<style scoped>\n",
       "    .dataframe tbody tr th:only-of-type {\n",
       "        vertical-align: middle;\n",
       "    }\n",
       "\n",
       "    .dataframe tbody tr th {\n",
       "        vertical-align: top;\n",
       "    }\n",
       "\n",
       "    .dataframe thead th {\n",
       "        text-align: right;\n",
       "    }\n",
       "</style>\n",
       "<table border=\"1\" class=\"dataframe\">\n",
       "  <thead>\n",
       "    <tr style=\"text-align: right;\">\n",
       "      <th></th>\n",
       "      <th>customer_id</th>\n",
       "      <th>customer_unique_id</th>\n",
       "      <th>order_id</th>\n",
       "      <th>date</th>\n",
       "      <th>revenue</th>\n",
       "    </tr>\n",
       "  </thead>\n",
       "  <tbody>\n",
       "    <tr>\n",
       "      <th>0</th>\n",
       "      <td>06b8999e2fba1a1fbc88172c00ba8bc7</td>\n",
       "      <td>861eff4711a542e4b93843c6dd7febb0</td>\n",
       "      <td>00e7ee1b050b8499577073aeb2a297a1</td>\n",
       "      <td>2017-05-16</td>\n",
       "      <td>124.99</td>\n",
       "    </tr>\n",
       "    <tr>\n",
       "      <th>1</th>\n",
       "      <td>18955e83d337fd6b2def6b18a428ac77</td>\n",
       "      <td>290c77bc529b7ac935b93aa66c333dc3</td>\n",
       "      <td>29150127e6685892b6eab3eec79f59c7</td>\n",
       "      <td>2018-01-12</td>\n",
       "      <td>289.00</td>\n",
       "    </tr>\n",
       "    <tr>\n",
       "      <th>2</th>\n",
       "      <td>4e7b3e00288586ebd08712fdd0374a03</td>\n",
       "      <td>060e732b5b29e8181a18229c7b0b2b5e</td>\n",
       "      <td>b2059ed67ce144a36e2aa97d2c9e9ad2</td>\n",
       "      <td>2018-05-19</td>\n",
       "      <td>139.94</td>\n",
       "    </tr>\n",
       "    <tr>\n",
       "      <th>3</th>\n",
       "      <td>b2b6027bc5c5109e529d4dc6358b12c3</td>\n",
       "      <td>259dac757896d24d7702b9acbbff3f3c</td>\n",
       "      <td>951670f92359f4fe4a63112aa7306eba</td>\n",
       "      <td>2018-03-13</td>\n",
       "      <td>149.94</td>\n",
       "    </tr>\n",
       "    <tr>\n",
       "      <th>4</th>\n",
       "      <td>4f2d8ab171c80ec8364f7c12e35b23ad</td>\n",
       "      <td>345ecd01c38d18a9036ed96c73b8d066</td>\n",
       "      <td>6b7d50bd145f6fc7f33cebabd7e49d0f</td>\n",
       "      <td>2018-07-29</td>\n",
       "      <td>230.00</td>\n",
       "    </tr>\n",
       "    <tr>\n",
       "      <th>...</th>\n",
       "      <td>...</td>\n",
       "      <td>...</td>\n",
       "      <td>...</td>\n",
       "      <td>...</td>\n",
       "      <td>...</td>\n",
       "    </tr>\n",
       "    <tr>\n",
       "      <th>99436</th>\n",
       "      <td>17ddf5dd5d51696bb3d7c6291687be6f</td>\n",
       "      <td>1a29b476fee25c95fbafc67c5ac95cf8</td>\n",
       "      <td>6760e20addcf0121e9d58f2f1ff14298</td>\n",
       "      <td>2018-04-07</td>\n",
       "      <td>74.90</td>\n",
       "    </tr>\n",
       "    <tr>\n",
       "      <th>99437</th>\n",
       "      <td>e7b71a9017aa05c9a7fd292d714858e8</td>\n",
       "      <td>d52a67c98be1cf6a5c84435bd38d095d</td>\n",
       "      <td>9ec0c8947d973db4f4e8dcf1fbfa8f1b</td>\n",
       "      <td>2018-04-04</td>\n",
       "      <td>114.90</td>\n",
       "    </tr>\n",
       "    <tr>\n",
       "      <th>99438</th>\n",
       "      <td>5e28dfe12db7fb50a4b2f691faecea5e</td>\n",
       "      <td>e9f50caf99f032f0bf3c55141f019d99</td>\n",
       "      <td>fed4434add09a6f332ea398efd656a5c</td>\n",
       "      <td>2018-04-08</td>\n",
       "      <td>37.00</td>\n",
       "    </tr>\n",
       "    <tr>\n",
       "      <th>99439</th>\n",
       "      <td>56b18e2166679b8a959d72dd06da27f9</td>\n",
       "      <td>73c2643a0a458b49f58cea58833b192e</td>\n",
       "      <td>e31ec91cea1ecf97797787471f98a8c2</td>\n",
       "      <td>2017-11-03</td>\n",
       "      <td>689.00</td>\n",
       "    </tr>\n",
       "    <tr>\n",
       "      <th>99440</th>\n",
       "      <td>274fa6071e5e17fe303b9748641082c8</td>\n",
       "      <td>84732c5050c01db9b23e19ba39899398</td>\n",
       "      <td>28db69209a75e59f20ccbb5c36a20b90</td>\n",
       "      <td>2017-12-19</td>\n",
       "      <td>13.99</td>\n",
       "    </tr>\n",
       "  </tbody>\n",
       "</table>\n",
       "<p>99441 rows × 5 columns</p>\n",
       "</div>"
      ],
      "text/plain": [
       "                            customer_id                customer_unique_id  \\\n",
       "0      06b8999e2fba1a1fbc88172c00ba8bc7  861eff4711a542e4b93843c6dd7febb0   \n",
       "1      18955e83d337fd6b2def6b18a428ac77  290c77bc529b7ac935b93aa66c333dc3   \n",
       "2      4e7b3e00288586ebd08712fdd0374a03  060e732b5b29e8181a18229c7b0b2b5e   \n",
       "3      b2b6027bc5c5109e529d4dc6358b12c3  259dac757896d24d7702b9acbbff3f3c   \n",
       "4      4f2d8ab171c80ec8364f7c12e35b23ad  345ecd01c38d18a9036ed96c73b8d066   \n",
       "...                                 ...                               ...   \n",
       "99436  17ddf5dd5d51696bb3d7c6291687be6f  1a29b476fee25c95fbafc67c5ac95cf8   \n",
       "99437  e7b71a9017aa05c9a7fd292d714858e8  d52a67c98be1cf6a5c84435bd38d095d   \n",
       "99438  5e28dfe12db7fb50a4b2f691faecea5e  e9f50caf99f032f0bf3c55141f019d99   \n",
       "99439  56b18e2166679b8a959d72dd06da27f9  73c2643a0a458b49f58cea58833b192e   \n",
       "99440  274fa6071e5e17fe303b9748641082c8  84732c5050c01db9b23e19ba39899398   \n",
       "\n",
       "                               order_id        date  revenue  \n",
       "0      00e7ee1b050b8499577073aeb2a297a1  2017-05-16   124.99  \n",
       "1      29150127e6685892b6eab3eec79f59c7  2018-01-12   289.00  \n",
       "2      b2059ed67ce144a36e2aa97d2c9e9ad2  2018-05-19   139.94  \n",
       "3      951670f92359f4fe4a63112aa7306eba  2018-03-13   149.94  \n",
       "4      6b7d50bd145f6fc7f33cebabd7e49d0f  2018-07-29   230.00  \n",
       "...                                 ...         ...      ...  \n",
       "99436  6760e20addcf0121e9d58f2f1ff14298  2018-04-07    74.90  \n",
       "99437  9ec0c8947d973db4f4e8dcf1fbfa8f1b  2018-04-04   114.90  \n",
       "99438  fed4434add09a6f332ea398efd656a5c  2018-04-08    37.00  \n",
       "99439  e31ec91cea1ecf97797787471f98a8c2  2017-11-03   689.00  \n",
       "99440  28db69209a75e59f20ccbb5c36a20b90  2017-12-19    13.99  \n",
       "\n",
       "[99441 rows x 5 columns]"
      ]
     },
     "execution_count": 13,
     "metadata": {},
     "output_type": "execute_result"
    }
   ],
   "source": [
    "orderCusDetails_raw = pd.merge(customers, orderDetails, on = 'customer_id', how = 'left')\n",
    "orderCusDetails_raw"
   ]
  },
  {
   "cell_type": "code",
   "execution_count": 14,
   "id": "edb9b9ff",
   "metadata": {
    "execution": {
     "iopub.execute_input": "2021-10-13T21:48:10.852757Z",
     "iopub.status.busy": "2021-10-13T21:48:10.834207Z",
     "iopub.status.idle": "2021-10-13T21:48:10.884303Z",
     "shell.execute_reply": "2021-10-13T21:48:10.884931Z",
     "shell.execute_reply.started": "2021-10-13T21:21:43.836985Z"
    },
    "papermill": {
     "duration": 0.102384,
     "end_time": "2021-10-13T21:48:10.885101",
     "exception": false,
     "start_time": "2021-10-13T21:48:10.782717",
     "status": "completed"
    },
    "tags": []
   },
   "outputs": [
    {
     "data": {
      "text/html": [
       "<div>\n",
       "<style scoped>\n",
       "    .dataframe tbody tr th:only-of-type {\n",
       "        vertical-align: middle;\n",
       "    }\n",
       "\n",
       "    .dataframe tbody tr th {\n",
       "        vertical-align: top;\n",
       "    }\n",
       "\n",
       "    .dataframe thead th {\n",
       "        text-align: right;\n",
       "    }\n",
       "</style>\n",
       "<table border=\"1\" class=\"dataframe\">\n",
       "  <thead>\n",
       "    <tr style=\"text-align: right;\">\n",
       "      <th></th>\n",
       "      <th>customer_id</th>\n",
       "      <th>customer_unique_id</th>\n",
       "      <th>order_id</th>\n",
       "      <th>date</th>\n",
       "      <th>revenue</th>\n",
       "    </tr>\n",
       "  </thead>\n",
       "  <tbody>\n",
       "    <tr>\n",
       "      <th>28432</th>\n",
       "      <td>6152d0774bbbf74f7140541c0569dafa</td>\n",
       "      <td>12f5d6e1cbf93dafd9dcc19095df0b3d</td>\n",
       "      <td>9b91ddcbd6cbceb83d4fd2462ca1f95e</td>\n",
       "      <td>2017-01-05</td>\n",
       "      <td>10.9</td>\n",
       "    </tr>\n",
       "    <tr>\n",
       "      <th>35693</th>\n",
       "      <td>588047d7101d88c333691e47659d7099</td>\n",
       "      <td>12f5d6e1cbf93dafd9dcc19095df0b3d</td>\n",
       "      <td>ca5a215980675471f0cf8199c041909a</td>\n",
       "      <td>2017-01-05</td>\n",
       "      <td>10.9</td>\n",
       "    </tr>\n",
       "    <tr>\n",
       "      <th>71569</th>\n",
       "      <td>c0352e94059e3e5a714c9ad0c8306a54</td>\n",
       "      <td>12f5d6e1cbf93dafd9dcc19095df0b3d</td>\n",
       "      <td>17fed53ba6dfef9b594ee2268642e2aa</td>\n",
       "      <td>2017-01-05</td>\n",
       "      <td>9.9</td>\n",
       "    </tr>\n",
       "    <tr>\n",
       "      <th>89230</th>\n",
       "      <td>27129ce1ebca4ffa23a049c51cc8ec95</td>\n",
       "      <td>12f5d6e1cbf93dafd9dcc19095df0b3d</td>\n",
       "      <td>464de32dc84484c1d26df3e8e38e708b</td>\n",
       "      <td>2017-01-05</td>\n",
       "      <td>6.9</td>\n",
       "    </tr>\n",
       "    <tr>\n",
       "      <th>97034</th>\n",
       "      <td>ed1793d2d1e4175d5846ce7ebb4a01f5</td>\n",
       "      <td>12f5d6e1cbf93dafd9dcc19095df0b3d</td>\n",
       "      <td>747996a66f5aa711deb8ae58f5ae46a0</td>\n",
       "      <td>2017-01-05</td>\n",
       "      <td>9.9</td>\n",
       "    </tr>\n",
       "    <tr>\n",
       "      <th>98493</th>\n",
       "      <td>a969b9f8d923bc7fd97b578f7c499194</td>\n",
       "      <td>12f5d6e1cbf93dafd9dcc19095df0b3d</td>\n",
       "      <td>8a784d47854e4cbc5562362393d504db</td>\n",
       "      <td>2017-01-05</td>\n",
       "      <td>9.9</td>\n",
       "    </tr>\n",
       "  </tbody>\n",
       "</table>\n",
       "</div>"
      ],
      "text/plain": [
       "                            customer_id                customer_unique_id  \\\n",
       "28432  6152d0774bbbf74f7140541c0569dafa  12f5d6e1cbf93dafd9dcc19095df0b3d   \n",
       "35693  588047d7101d88c333691e47659d7099  12f5d6e1cbf93dafd9dcc19095df0b3d   \n",
       "71569  c0352e94059e3e5a714c9ad0c8306a54  12f5d6e1cbf93dafd9dcc19095df0b3d   \n",
       "89230  27129ce1ebca4ffa23a049c51cc8ec95  12f5d6e1cbf93dafd9dcc19095df0b3d   \n",
       "97034  ed1793d2d1e4175d5846ce7ebb4a01f5  12f5d6e1cbf93dafd9dcc19095df0b3d   \n",
       "98493  a969b9f8d923bc7fd97b578f7c499194  12f5d6e1cbf93dafd9dcc19095df0b3d   \n",
       "\n",
       "                               order_id        date  revenue  \n",
       "28432  9b91ddcbd6cbceb83d4fd2462ca1f95e  2017-01-05     10.9  \n",
       "35693  ca5a215980675471f0cf8199c041909a  2017-01-05     10.9  \n",
       "71569  17fed53ba6dfef9b594ee2268642e2aa  2017-01-05      9.9  \n",
       "89230  464de32dc84484c1d26df3e8e38e708b  2017-01-05      6.9  \n",
       "97034  747996a66f5aa711deb8ae58f5ae46a0  2017-01-05      9.9  \n",
       "98493  8a784d47854e4cbc5562362393d504db  2017-01-05      9.9  "
      ]
     },
     "execution_count": 14,
     "metadata": {},
     "output_type": "execute_result"
    }
   ],
   "source": [
    "# Testing\n",
    "orderCusDetails_raw[orderCusDetails_raw['customer_unique_id'] == '12f5d6e1cbf93dafd9dcc19095df0b3d']"
   ]
  },
  {
   "cell_type": "code",
   "execution_count": 15,
   "id": "44a94f74",
   "metadata": {
    "execution": {
     "iopub.execute_input": "2021-10-13T21:48:10.992768Z",
     "iopub.status.busy": "2021-10-13T21:48:10.982509Z",
     "iopub.status.idle": "2021-10-13T21:48:11.326867Z",
     "shell.execute_reply": "2021-10-13T21:48:11.326279Z",
     "shell.execute_reply.started": "2021-10-13T21:21:43.890728Z"
    },
    "papermill": {
     "duration": 0.394438,
     "end_time": "2021-10-13T21:48:11.327006",
     "exception": false,
     "start_time": "2021-10-13T21:48:10.932568",
     "status": "completed"
    },
    "tags": []
   },
   "outputs": [
    {
     "data": {
      "text/html": [
       "<div>\n",
       "<style scoped>\n",
       "    .dataframe tbody tr th:only-of-type {\n",
       "        vertical-align: middle;\n",
       "    }\n",
       "\n",
       "    .dataframe tbody tr th {\n",
       "        vertical-align: top;\n",
       "    }\n",
       "\n",
       "    .dataframe thead th {\n",
       "        text-align: right;\n",
       "    }\n",
       "</style>\n",
       "<table border=\"1\" class=\"dataframe\">\n",
       "  <thead>\n",
       "    <tr style=\"text-align: right;\">\n",
       "      <th></th>\n",
       "      <th>customer_unique_id</th>\n",
       "      <th>date</th>\n",
       "      <th>revenue</th>\n",
       "    </tr>\n",
       "  </thead>\n",
       "  <tbody>\n",
       "    <tr>\n",
       "      <th>0</th>\n",
       "      <td>0000366f3b9a7992bf8c76cfdf3221e2</td>\n",
       "      <td>2018-05-10</td>\n",
       "      <td>129.90</td>\n",
       "    </tr>\n",
       "    <tr>\n",
       "      <th>1</th>\n",
       "      <td>0000b849f77a49e4a4ce2b2a4ca5be3f</td>\n",
       "      <td>2018-05-07</td>\n",
       "      <td>18.90</td>\n",
       "    </tr>\n",
       "    <tr>\n",
       "      <th>2</th>\n",
       "      <td>0000f46a3911fa3c0805444483337064</td>\n",
       "      <td>2017-03-10</td>\n",
       "      <td>69.00</td>\n",
       "    </tr>\n",
       "    <tr>\n",
       "      <th>3</th>\n",
       "      <td>0000f6ccb0745a6a4b88665a16c9f078</td>\n",
       "      <td>2017-10-12</td>\n",
       "      <td>25.99</td>\n",
       "    </tr>\n",
       "    <tr>\n",
       "      <th>4</th>\n",
       "      <td>0004aac84e0df4da2b147fca70cf8255</td>\n",
       "      <td>2017-11-14</td>\n",
       "      <td>180.00</td>\n",
       "    </tr>\n",
       "    <tr>\n",
       "      <th>...</th>\n",
       "      <td>...</td>\n",
       "      <td>...</td>\n",
       "      <td>...</td>\n",
       "    </tr>\n",
       "    <tr>\n",
       "      <th>97872</th>\n",
       "      <td>fffcf5a5ff07b0908bd4e2dbc735a684</td>\n",
       "      <td>2017-06-08</td>\n",
       "      <td>1570.00</td>\n",
       "    </tr>\n",
       "    <tr>\n",
       "      <th>97873</th>\n",
       "      <td>fffea47cd6d3cc0a88bd621562a9d061</td>\n",
       "      <td>2017-12-10</td>\n",
       "      <td>64.89</td>\n",
       "    </tr>\n",
       "    <tr>\n",
       "      <th>97874</th>\n",
       "      <td>ffff371b4d645b6ecea244b27531430a</td>\n",
       "      <td>2017-02-07</td>\n",
       "      <td>89.90</td>\n",
       "    </tr>\n",
       "    <tr>\n",
       "      <th>97875</th>\n",
       "      <td>ffff5962728ec6157033ef9805bacc48</td>\n",
       "      <td>2018-05-02</td>\n",
       "      <td>115.00</td>\n",
       "    </tr>\n",
       "    <tr>\n",
       "      <th>97876</th>\n",
       "      <td>ffffd2657e2aad2907e67c3e9daecbeb</td>\n",
       "      <td>2017-05-02</td>\n",
       "      <td>56.99</td>\n",
       "    </tr>\n",
       "  </tbody>\n",
       "</table>\n",
       "<p>97877 rows × 3 columns</p>\n",
       "</div>"
      ],
      "text/plain": [
       "                     customer_unique_id        date  revenue\n",
       "0      0000366f3b9a7992bf8c76cfdf3221e2  2018-05-10   129.90\n",
       "1      0000b849f77a49e4a4ce2b2a4ca5be3f  2018-05-07    18.90\n",
       "2      0000f46a3911fa3c0805444483337064  2017-03-10    69.00\n",
       "3      0000f6ccb0745a6a4b88665a16c9f078  2017-10-12    25.99\n",
       "4      0004aac84e0df4da2b147fca70cf8255  2017-11-14   180.00\n",
       "...                                 ...         ...      ...\n",
       "97872  fffcf5a5ff07b0908bd4e2dbc735a684  2017-06-08  1570.00\n",
       "97873  fffea47cd6d3cc0a88bd621562a9d061  2017-12-10    64.89\n",
       "97874  ffff371b4d645b6ecea244b27531430a  2017-02-07    89.90\n",
       "97875  ffff5962728ec6157033ef9805bacc48  2018-05-02   115.00\n",
       "97876  ffffd2657e2aad2907e67c3e9daecbeb  2017-05-02    56.99\n",
       "\n",
       "[97877 rows x 3 columns]"
      ]
     },
     "execution_count": 15,
     "metadata": {},
     "output_type": "execute_result"
    }
   ],
   "source": [
    "orderCusDetails = orderCusDetails_raw.groupby(['customer_unique_id','date']).agg({'revenue':'sum'}).reset_index()\n",
    "orderCusDetails"
   ]
  },
  {
   "cell_type": "code",
   "execution_count": 16,
   "id": "c4970d5c",
   "metadata": {
    "execution": {
     "iopub.execute_input": "2021-10-13T21:48:11.447842Z",
     "iopub.status.busy": "2021-10-13T21:48:11.447128Z",
     "iopub.status.idle": "2021-10-13T21:48:11.464489Z",
     "shell.execute_reply": "2021-10-13T21:48:11.463920Z",
     "shell.execute_reply.started": "2021-10-13T21:21:44.240307Z"
    },
    "papermill": {
     "duration": 0.090069,
     "end_time": "2021-10-13T21:48:11.464646",
     "exception": false,
     "start_time": "2021-10-13T21:48:11.374577",
     "status": "completed"
    },
    "tags": []
   },
   "outputs": [
    {
     "data": {
      "text/html": [
       "<div>\n",
       "<style scoped>\n",
       "    .dataframe tbody tr th:only-of-type {\n",
       "        vertical-align: middle;\n",
       "    }\n",
       "\n",
       "    .dataframe tbody tr th {\n",
       "        vertical-align: top;\n",
       "    }\n",
       "\n",
       "    .dataframe thead th {\n",
       "        text-align: right;\n",
       "    }\n",
       "</style>\n",
       "<table border=\"1\" class=\"dataframe\">\n",
       "  <thead>\n",
       "    <tr style=\"text-align: right;\">\n",
       "      <th></th>\n",
       "      <th>customer_unique_id</th>\n",
       "      <th>date</th>\n",
       "      <th>revenue</th>\n",
       "    </tr>\n",
       "  </thead>\n",
       "  <tbody>\n",
       "    <tr>\n",
       "      <th>7299</th>\n",
       "      <td>12f5d6e1cbf93dafd9dcc19095df0b3d</td>\n",
       "      <td>2017-01-05</td>\n",
       "      <td>58.4</td>\n",
       "    </tr>\n",
       "  </tbody>\n",
       "</table>\n",
       "</div>"
      ],
      "text/plain": [
       "                    customer_unique_id        date  revenue\n",
       "7299  12f5d6e1cbf93dafd9dcc19095df0b3d  2017-01-05     58.4"
      ]
     },
     "execution_count": 16,
     "metadata": {},
     "output_type": "execute_result"
    }
   ],
   "source": [
    "# Testing\n",
    "orderCusDetails[orderCusDetails['customer_unique_id'] == '12f5d6e1cbf93dafd9dcc19095df0b3d']"
   ]
  },
  {
   "cell_type": "code",
   "execution_count": 17,
   "id": "f7c18667",
   "metadata": {
    "execution": {
     "iopub.execute_input": "2021-10-13T21:48:11.582271Z",
     "iopub.status.busy": "2021-10-13T21:48:11.581562Z",
     "iopub.status.idle": "2021-10-13T21:48:11.634836Z",
     "shell.execute_reply": "2021-10-13T21:48:11.634214Z",
     "shell.execute_reply.started": "2021-10-13T21:21:44.279214Z"
    },
    "papermill": {
     "duration": 0.121451,
     "end_time": "2021-10-13T21:48:11.634984",
     "exception": false,
     "start_time": "2021-10-13T21:48:11.513533",
     "status": "completed"
    },
    "tags": []
   },
   "outputs": [
    {
     "data": {
      "text/plain": [
       "95560"
      ]
     },
     "execution_count": 17,
     "metadata": {},
     "output_type": "execute_result"
    }
   ],
   "source": [
    "orderCusDetails['customer_unique_id'].nunique()"
   ]
  },
  {
   "cell_type": "code",
   "execution_count": 18,
   "id": "efc07ff3",
   "metadata": {
    "execution": {
     "iopub.execute_input": "2021-10-13T21:48:11.738292Z",
     "iopub.status.busy": "2021-10-13T21:48:11.735754Z",
     "iopub.status.idle": "2021-10-13T21:48:11.741538Z",
     "shell.execute_reply": "2021-10-13T21:48:11.740908Z",
     "shell.execute_reply.started": "2021-10-13T21:21:44.347065Z"
    },
    "papermill": {
     "duration": 0.058276,
     "end_time": "2021-10-13T21:48:11.741676",
     "exception": false,
     "start_time": "2021-10-13T21:48:11.683400",
     "status": "completed"
    },
    "tags": []
   },
   "outputs": [],
   "source": [
    "df = orderCusDetails.copy()"
   ]
  },
  {
   "cell_type": "code",
   "execution_count": 19,
   "id": "19f3ef53",
   "metadata": {
    "execution": {
     "iopub.execute_input": "2021-10-13T21:48:11.888044Z",
     "iopub.status.busy": "2021-10-13T21:48:11.873657Z",
     "iopub.status.idle": "2021-10-13T21:48:11.892430Z",
     "shell.execute_reply": "2021-10-13T21:48:11.891766Z",
     "shell.execute_reply.started": "2021-10-13T21:21:44.356504Z"
    },
    "papermill": {
     "duration": 0.102837,
     "end_time": "2021-10-13T21:48:11.892579",
     "exception": false,
     "start_time": "2021-10-13T21:48:11.789742",
     "status": "completed"
    },
    "tags": []
   },
   "outputs": [
    {
     "name": "stdout",
     "output_type": "stream",
     "text": [
      "Min : 2016-09-04, Max : 2018-09-03\n",
      "2018-09-04\n"
     ]
    }
   ],
   "source": [
    "print('Min : {}, Max : {}'.format(min(df['date']), max(df['date'])))\n",
    "lastDate = max(df['date']) + dt.timedelta(1)\n",
    "print(lastDate)"
   ]
  },
  {
   "cell_type": "code",
   "execution_count": 20,
   "id": "cfdf4237",
   "metadata": {
    "execution": {
     "iopub.execute_input": "2021-10-13T21:48:12.011416Z",
     "iopub.status.busy": "2021-10-13T21:48:12.003054Z",
     "iopub.status.idle": "2021-10-13T21:48:19.733584Z",
     "shell.execute_reply": "2021-10-13T21:48:19.733045Z",
     "shell.execute_reply.started": "2021-10-13T21:21:44.412452Z"
    },
    "papermill": {
     "duration": 7.792554,
     "end_time": "2021-10-13T21:48:19.733731",
     "exception": false,
     "start_time": "2021-10-13T21:48:11.941177",
     "status": "completed"
    },
    "tags": []
   },
   "outputs": [
    {
     "data": {
      "text/html": [
       "<div>\n",
       "<style scoped>\n",
       "    .dataframe tbody tr th:only-of-type {\n",
       "        vertical-align: middle;\n",
       "    }\n",
       "\n",
       "    .dataframe tbody tr th {\n",
       "        vertical-align: top;\n",
       "    }\n",
       "\n",
       "    .dataframe thead th {\n",
       "        text-align: right;\n",
       "    }\n",
       "</style>\n",
       "<table border=\"1\" class=\"dataframe\">\n",
       "  <thead>\n",
       "    <tr style=\"text-align: right;\">\n",
       "      <th></th>\n",
       "      <th>customer_unique_id</th>\n",
       "      <th>T</th>\n",
       "    </tr>\n",
       "  </thead>\n",
       "  <tbody>\n",
       "    <tr>\n",
       "      <th>0</th>\n",
       "      <td>0000366f3b9a7992bf8c76cfdf3221e2</td>\n",
       "      <td>117</td>\n",
       "    </tr>\n",
       "    <tr>\n",
       "      <th>1</th>\n",
       "      <td>0000b849f77a49e4a4ce2b2a4ca5be3f</td>\n",
       "      <td>120</td>\n",
       "    </tr>\n",
       "    <tr>\n",
       "      <th>2</th>\n",
       "      <td>0000f46a3911fa3c0805444483337064</td>\n",
       "      <td>543</td>\n",
       "    </tr>\n",
       "    <tr>\n",
       "      <th>3</th>\n",
       "      <td>0000f6ccb0745a6a4b88665a16c9f078</td>\n",
       "      <td>327</td>\n",
       "    </tr>\n",
       "    <tr>\n",
       "      <th>4</th>\n",
       "      <td>0004aac84e0df4da2b147fca70cf8255</td>\n",
       "      <td>294</td>\n",
       "    </tr>\n",
       "    <tr>\n",
       "      <th>...</th>\n",
       "      <td>...</td>\n",
       "      <td>...</td>\n",
       "    </tr>\n",
       "    <tr>\n",
       "      <th>95555</th>\n",
       "      <td>fffcf5a5ff07b0908bd4e2dbc735a684</td>\n",
       "      <td>453</td>\n",
       "    </tr>\n",
       "    <tr>\n",
       "      <th>95556</th>\n",
       "      <td>fffea47cd6d3cc0a88bd621562a9d061</td>\n",
       "      <td>268</td>\n",
       "    </tr>\n",
       "    <tr>\n",
       "      <th>95557</th>\n",
       "      <td>ffff371b4d645b6ecea244b27531430a</td>\n",
       "      <td>574</td>\n",
       "    </tr>\n",
       "    <tr>\n",
       "      <th>95558</th>\n",
       "      <td>ffff5962728ec6157033ef9805bacc48</td>\n",
       "      <td>125</td>\n",
       "    </tr>\n",
       "    <tr>\n",
       "      <th>95559</th>\n",
       "      <td>ffffd2657e2aad2907e67c3e9daecbeb</td>\n",
       "      <td>490</td>\n",
       "    </tr>\n",
       "  </tbody>\n",
       "</table>\n",
       "<p>95560 rows × 2 columns</p>\n",
       "</div>"
      ],
      "text/plain": [
       "                     customer_unique_id    T\n",
       "0      0000366f3b9a7992bf8c76cfdf3221e2  117\n",
       "1      0000b849f77a49e4a4ce2b2a4ca5be3f  120\n",
       "2      0000f46a3911fa3c0805444483337064  543\n",
       "3      0000f6ccb0745a6a4b88665a16c9f078  327\n",
       "4      0004aac84e0df4da2b147fca70cf8255  294\n",
       "...                                 ...  ...\n",
       "95555  fffcf5a5ff07b0908bd4e2dbc735a684  453\n",
       "95556  fffea47cd6d3cc0a88bd621562a9d061  268\n",
       "95557  ffff371b4d645b6ecea244b27531430a  574\n",
       "95558  ffff5962728ec6157033ef9805bacc48  125\n",
       "95559  ffffd2657e2aad2907e67c3e9daecbeb  490\n",
       "\n",
       "[95560 rows x 2 columns]"
      ]
     },
     "execution_count": 20,
     "metadata": {},
     "output_type": "execute_result"
    }
   ],
   "source": [
    "df1 = df.groupby('customer_unique_id') .agg({'date': lambda x:(lastDate - x.min()).days}).reset_index()\n",
    "df1.rename(columns = {'date':'T'}, inplace = True)\n",
    "df1"
   ]
  },
  {
   "cell_type": "code",
   "execution_count": 21,
   "id": "ed7792ee",
   "metadata": {
    "execution": {
     "iopub.execute_input": "2021-10-13T21:48:19.845701Z",
     "iopub.status.busy": "2021-10-13T21:48:19.845017Z",
     "iopub.status.idle": "2021-10-13T21:48:33.660343Z",
     "shell.execute_reply": "2021-10-13T21:48:33.659652Z",
     "shell.execute_reply.started": "2021-10-13T21:21:51.749045Z"
    },
    "papermill": {
     "duration": 13.877263,
     "end_time": "2021-10-13T21:48:33.660492",
     "exception": false,
     "start_time": "2021-10-13T21:48:19.783229",
     "status": "completed"
    },
    "tags": []
   },
   "outputs": [
    {
     "data": {
      "text/html": [
       "<div>\n",
       "<style scoped>\n",
       "    .dataframe tbody tr th:only-of-type {\n",
       "        vertical-align: middle;\n",
       "    }\n",
       "\n",
       "    .dataframe tbody tr th {\n",
       "        vertical-align: top;\n",
       "    }\n",
       "\n",
       "    .dataframe thead th {\n",
       "        text-align: right;\n",
       "    }\n",
       "</style>\n",
       "<table border=\"1\" class=\"dataframe\">\n",
       "  <thead>\n",
       "    <tr style=\"text-align: right;\">\n",
       "      <th></th>\n",
       "      <th>customer_unique_id</th>\n",
       "      <th>recency</th>\n",
       "    </tr>\n",
       "  </thead>\n",
       "  <tbody>\n",
       "    <tr>\n",
       "      <th>0</th>\n",
       "      <td>0000366f3b9a7992bf8c76cfdf3221e2</td>\n",
       "      <td>0</td>\n",
       "    </tr>\n",
       "    <tr>\n",
       "      <th>1</th>\n",
       "      <td>0000b849f77a49e4a4ce2b2a4ca5be3f</td>\n",
       "      <td>0</td>\n",
       "    </tr>\n",
       "    <tr>\n",
       "      <th>2</th>\n",
       "      <td>0000f46a3911fa3c0805444483337064</td>\n",
       "      <td>0</td>\n",
       "    </tr>\n",
       "    <tr>\n",
       "      <th>3</th>\n",
       "      <td>0000f6ccb0745a6a4b88665a16c9f078</td>\n",
       "      <td>0</td>\n",
       "    </tr>\n",
       "    <tr>\n",
       "      <th>4</th>\n",
       "      <td>0004aac84e0df4da2b147fca70cf8255</td>\n",
       "      <td>0</td>\n",
       "    </tr>\n",
       "    <tr>\n",
       "      <th>...</th>\n",
       "      <td>...</td>\n",
       "      <td>...</td>\n",
       "    </tr>\n",
       "    <tr>\n",
       "      <th>95555</th>\n",
       "      <td>fffcf5a5ff07b0908bd4e2dbc735a684</td>\n",
       "      <td>0</td>\n",
       "    </tr>\n",
       "    <tr>\n",
       "      <th>95556</th>\n",
       "      <td>fffea47cd6d3cc0a88bd621562a9d061</td>\n",
       "      <td>0</td>\n",
       "    </tr>\n",
       "    <tr>\n",
       "      <th>95557</th>\n",
       "      <td>ffff371b4d645b6ecea244b27531430a</td>\n",
       "      <td>0</td>\n",
       "    </tr>\n",
       "    <tr>\n",
       "      <th>95558</th>\n",
       "      <td>ffff5962728ec6157033ef9805bacc48</td>\n",
       "      <td>0</td>\n",
       "    </tr>\n",
       "    <tr>\n",
       "      <th>95559</th>\n",
       "      <td>ffffd2657e2aad2907e67c3e9daecbeb</td>\n",
       "      <td>0</td>\n",
       "    </tr>\n",
       "  </tbody>\n",
       "</table>\n",
       "<p>95560 rows × 2 columns</p>\n",
       "</div>"
      ],
      "text/plain": [
       "                     customer_unique_id  recency\n",
       "0      0000366f3b9a7992bf8c76cfdf3221e2        0\n",
       "1      0000b849f77a49e4a4ce2b2a4ca5be3f        0\n",
       "2      0000f46a3911fa3c0805444483337064        0\n",
       "3      0000f6ccb0745a6a4b88665a16c9f078        0\n",
       "4      0004aac84e0df4da2b147fca70cf8255        0\n",
       "...                                 ...      ...\n",
       "95555  fffcf5a5ff07b0908bd4e2dbc735a684        0\n",
       "95556  fffea47cd6d3cc0a88bd621562a9d061        0\n",
       "95557  ffff371b4d645b6ecea244b27531430a        0\n",
       "95558  ffff5962728ec6157033ef9805bacc48        0\n",
       "95559  ffffd2657e2aad2907e67c3e9daecbeb        0\n",
       "\n",
       "[95560 rows x 2 columns]"
      ]
     },
     "execution_count": 21,
     "metadata": {},
     "output_type": "execute_result"
    }
   ],
   "source": [
    "df2 = df.groupby('customer_unique_id').agg({'date': lambda x:(x.max() - x.min()).days}).reset_index()\n",
    "df2.rename(columns = {'date':'recency'}, inplace = True)\n",
    "df2"
   ]
  },
  {
   "cell_type": "code",
   "execution_count": 22,
   "id": "7fbe6ccb",
   "metadata": {
    "execution": {
     "iopub.execute_input": "2021-10-13T21:48:33.764872Z",
     "iopub.status.busy": "2021-10-13T21:48:33.764179Z",
     "iopub.status.idle": "2021-10-13T21:48:33.775414Z",
     "shell.execute_reply": "2021-10-13T21:48:33.774894Z",
     "shell.execute_reply.started": "2021-10-13T21:22:05.454634Z"
    },
    "papermill": {
     "duration": 0.065459,
     "end_time": "2021-10-13T21:48:33.775557",
     "exception": false,
     "start_time": "2021-10-13T21:48:33.710098",
     "status": "completed"
    },
    "tags": []
   },
   "outputs": [
    {
     "data": {
      "text/html": [
       "<div>\n",
       "<style scoped>\n",
       "    .dataframe tbody tr th:only-of-type {\n",
       "        vertical-align: middle;\n",
       "    }\n",
       "\n",
       "    .dataframe tbody tr th {\n",
       "        vertical-align: top;\n",
       "    }\n",
       "\n",
       "    .dataframe thead th {\n",
       "        text-align: right;\n",
       "    }\n",
       "</style>\n",
       "<table border=\"1\" class=\"dataframe\">\n",
       "  <thead>\n",
       "    <tr style=\"text-align: right;\">\n",
       "      <th></th>\n",
       "      <th>customer_unique_id</th>\n",
       "      <th>recency</th>\n",
       "    </tr>\n",
       "  </thead>\n",
       "  <tbody>\n",
       "    <tr>\n",
       "      <th>106</th>\n",
       "      <td>004288347e5e88a27ded2bb23747066c</td>\n",
       "      <td>171</td>\n",
       "    </tr>\n",
       "    <tr>\n",
       "      <th>124</th>\n",
       "      <td>004b45ec5c64187465168251cd1c9c2f</td>\n",
       "      <td>267</td>\n",
       "    </tr>\n",
       "    <tr>\n",
       "      <th>248</th>\n",
       "      <td>00a39521eb40f7012db50455bf083460</td>\n",
       "      <td>11</td>\n",
       "    </tr>\n",
       "    <tr>\n",
       "      <th>412</th>\n",
       "      <td>011575986092c30523ecb71ff10cb473</td>\n",
       "      <td>60</td>\n",
       "    </tr>\n",
       "    <tr>\n",
       "      <th>427</th>\n",
       "      <td>011b4adcd54683b480c4d841250a987f</td>\n",
       "      <td>177</td>\n",
       "    </tr>\n",
       "    <tr>\n",
       "      <th>...</th>\n",
       "      <td>...</td>\n",
       "      <td>...</td>\n",
       "    </tr>\n",
       "    <tr>\n",
       "      <th>95107</th>\n",
       "      <td>fed519569d16e690df6f89cb99d4e682</td>\n",
       "      <td>88</td>\n",
       "    </tr>\n",
       "    <tr>\n",
       "      <th>95175</th>\n",
       "      <td>ff03923ad1eb9e32304deb7f9b2a45c9</td>\n",
       "      <td>33</td>\n",
       "    </tr>\n",
       "    <tr>\n",
       "      <th>95223</th>\n",
       "      <td>ff22e30958c13ffe219db7d711e8f564</td>\n",
       "      <td>10</td>\n",
       "    </tr>\n",
       "    <tr>\n",
       "      <th>95382</th>\n",
       "      <td>ff8892f7c26aa0446da53d01b18df463</td>\n",
       "      <td>186</td>\n",
       "    </tr>\n",
       "    <tr>\n",
       "      <th>95400</th>\n",
       "      <td>ff922bdd6bafcdf99cb90d7f39cea5b3</td>\n",
       "      <td>204</td>\n",
       "    </tr>\n",
       "  </tbody>\n",
       "</table>\n",
       "<p>2092 rows × 2 columns</p>\n",
       "</div>"
      ],
      "text/plain": [
       "                     customer_unique_id  recency\n",
       "106    004288347e5e88a27ded2bb23747066c      171\n",
       "124    004b45ec5c64187465168251cd1c9c2f      267\n",
       "248    00a39521eb40f7012db50455bf083460       11\n",
       "412    011575986092c30523ecb71ff10cb473       60\n",
       "427    011b4adcd54683b480c4d841250a987f      177\n",
       "...                                 ...      ...\n",
       "95107  fed519569d16e690df6f89cb99d4e682       88\n",
       "95175  ff03923ad1eb9e32304deb7f9b2a45c9       33\n",
       "95223  ff22e30958c13ffe219db7d711e8f564       10\n",
       "95382  ff8892f7c26aa0446da53d01b18df463      186\n",
       "95400  ff922bdd6bafcdf99cb90d7f39cea5b3      204\n",
       "\n",
       "[2092 rows x 2 columns]"
      ]
     },
     "execution_count": 22,
     "metadata": {},
     "output_type": "execute_result"
    }
   ],
   "source": [
    "# Testing\n",
    "# df2[df2['customer_unique_id'] == '12f5d6e1cbf93dafd9dcc19095df0b3d']\n",
    "df2[df2['recency'] != 0]"
   ]
  },
  {
   "cell_type": "code",
   "execution_count": 23,
   "id": "f945c63b",
   "metadata": {
    "execution": {
     "iopub.execute_input": "2021-10-13T21:48:33.888842Z",
     "iopub.status.busy": "2021-10-13T21:48:33.888158Z",
     "iopub.status.idle": "2021-10-13T21:48:34.110710Z",
     "shell.execute_reply": "2021-10-13T21:48:34.110147Z",
     "shell.execute_reply.started": "2021-10-13T21:22:05.468927Z"
    },
    "papermill": {
     "duration": 0.284957,
     "end_time": "2021-10-13T21:48:34.110850",
     "exception": false,
     "start_time": "2021-10-13T21:48:33.825893",
     "status": "completed"
    },
    "tags": []
   },
   "outputs": [
    {
     "data": {
      "text/html": [
       "<div>\n",
       "<style scoped>\n",
       "    .dataframe tbody tr th:only-of-type {\n",
       "        vertical-align: middle;\n",
       "    }\n",
       "\n",
       "    .dataframe tbody tr th {\n",
       "        vertical-align: top;\n",
       "    }\n",
       "\n",
       "    .dataframe thead th {\n",
       "        text-align: right;\n",
       "    }\n",
       "</style>\n",
       "<table border=\"1\" class=\"dataframe\">\n",
       "  <thead>\n",
       "    <tr style=\"text-align: right;\">\n",
       "      <th></th>\n",
       "      <th>customer_unique_id</th>\n",
       "      <th>frequency</th>\n",
       "      <th>total_monetary</th>\n",
       "    </tr>\n",
       "  </thead>\n",
       "  <tbody>\n",
       "    <tr>\n",
       "      <th>0</th>\n",
       "      <td>0000366f3b9a7992bf8c76cfdf3221e2</td>\n",
       "      <td>1</td>\n",
       "      <td>129.90</td>\n",
       "    </tr>\n",
       "    <tr>\n",
       "      <th>1</th>\n",
       "      <td>0000b849f77a49e4a4ce2b2a4ca5be3f</td>\n",
       "      <td>1</td>\n",
       "      <td>18.90</td>\n",
       "    </tr>\n",
       "    <tr>\n",
       "      <th>2</th>\n",
       "      <td>0000f46a3911fa3c0805444483337064</td>\n",
       "      <td>1</td>\n",
       "      <td>69.00</td>\n",
       "    </tr>\n",
       "    <tr>\n",
       "      <th>3</th>\n",
       "      <td>0000f6ccb0745a6a4b88665a16c9f078</td>\n",
       "      <td>1</td>\n",
       "      <td>25.99</td>\n",
       "    </tr>\n",
       "    <tr>\n",
       "      <th>4</th>\n",
       "      <td>0004aac84e0df4da2b147fca70cf8255</td>\n",
       "      <td>1</td>\n",
       "      <td>180.00</td>\n",
       "    </tr>\n",
       "    <tr>\n",
       "      <th>...</th>\n",
       "      <td>...</td>\n",
       "      <td>...</td>\n",
       "      <td>...</td>\n",
       "    </tr>\n",
       "    <tr>\n",
       "      <th>95555</th>\n",
       "      <td>fffcf5a5ff07b0908bd4e2dbc735a684</td>\n",
       "      <td>1</td>\n",
       "      <td>1570.00</td>\n",
       "    </tr>\n",
       "    <tr>\n",
       "      <th>95556</th>\n",
       "      <td>fffea47cd6d3cc0a88bd621562a9d061</td>\n",
       "      <td>1</td>\n",
       "      <td>64.89</td>\n",
       "    </tr>\n",
       "    <tr>\n",
       "      <th>95557</th>\n",
       "      <td>ffff371b4d645b6ecea244b27531430a</td>\n",
       "      <td>1</td>\n",
       "      <td>89.90</td>\n",
       "    </tr>\n",
       "    <tr>\n",
       "      <th>95558</th>\n",
       "      <td>ffff5962728ec6157033ef9805bacc48</td>\n",
       "      <td>1</td>\n",
       "      <td>115.00</td>\n",
       "    </tr>\n",
       "    <tr>\n",
       "      <th>95559</th>\n",
       "      <td>ffffd2657e2aad2907e67c3e9daecbeb</td>\n",
       "      <td>1</td>\n",
       "      <td>56.99</td>\n",
       "    </tr>\n",
       "  </tbody>\n",
       "</table>\n",
       "<p>95560 rows × 3 columns</p>\n",
       "</div>"
      ],
      "text/plain": [
       "                     customer_unique_id  frequency  total_monetary\n",
       "0      0000366f3b9a7992bf8c76cfdf3221e2          1          129.90\n",
       "1      0000b849f77a49e4a4ce2b2a4ca5be3f          1           18.90\n",
       "2      0000f46a3911fa3c0805444483337064          1           69.00\n",
       "3      0000f6ccb0745a6a4b88665a16c9f078          1           25.99\n",
       "4      0004aac84e0df4da2b147fca70cf8255          1          180.00\n",
       "...                                 ...        ...             ...\n",
       "95555  fffcf5a5ff07b0908bd4e2dbc735a684          1         1570.00\n",
       "95556  fffea47cd6d3cc0a88bd621562a9d061          1           64.89\n",
       "95557  ffff371b4d645b6ecea244b27531430a          1           89.90\n",
       "95558  ffff5962728ec6157033ef9805bacc48          1          115.00\n",
       "95559  ffffd2657e2aad2907e67c3e9daecbeb          1           56.99\n",
       "\n",
       "[95560 rows x 3 columns]"
      ]
     },
     "execution_count": 23,
     "metadata": {},
     "output_type": "execute_result"
    }
   ],
   "source": [
    "df3 = df.groupby(['customer_unique_id']).agg({'date': 'count',                                             \n",
    "                                             'revenue':'sum'}).reset_index()\n",
    "df3.rename(columns = {'date':'frequency','revenue':'total_monetary'}, inplace = True)\n",
    "df3"
   ]
  },
  {
   "cell_type": "code",
   "execution_count": 24,
   "id": "ee9c0302",
   "metadata": {
    "execution": {
     "iopub.execute_input": "2021-10-13T21:48:34.218674Z",
     "iopub.status.busy": "2021-10-13T21:48:34.217607Z",
     "iopub.status.idle": "2021-10-13T21:48:34.238569Z",
     "shell.execute_reply": "2021-10-13T21:48:34.238018Z",
     "shell.execute_reply.started": "2021-10-13T21:22:05.718828Z"
    },
    "papermill": {
     "duration": 0.07745,
     "end_time": "2021-10-13T21:48:34.238706",
     "exception": false,
     "start_time": "2021-10-13T21:48:34.161256",
     "status": "completed"
    },
    "tags": []
   },
   "outputs": [
    {
     "data": {
      "text/html": [
       "<div>\n",
       "<style scoped>\n",
       "    .dataframe tbody tr th:only-of-type {\n",
       "        vertical-align: middle;\n",
       "    }\n",
       "\n",
       "    .dataframe tbody tr th {\n",
       "        vertical-align: top;\n",
       "    }\n",
       "\n",
       "    .dataframe thead th {\n",
       "        text-align: right;\n",
       "    }\n",
       "</style>\n",
       "<table border=\"1\" class=\"dataframe\">\n",
       "  <thead>\n",
       "    <tr style=\"text-align: right;\">\n",
       "      <th></th>\n",
       "      <th>customer_unique_id</th>\n",
       "      <th>frequency</th>\n",
       "      <th>avg_monetary</th>\n",
       "    </tr>\n",
       "  </thead>\n",
       "  <tbody>\n",
       "    <tr>\n",
       "      <th>0</th>\n",
       "      <td>0000366f3b9a7992bf8c76cfdf3221e2</td>\n",
       "      <td>0</td>\n",
       "      <td>129.90</td>\n",
       "    </tr>\n",
       "    <tr>\n",
       "      <th>1</th>\n",
       "      <td>0000b849f77a49e4a4ce2b2a4ca5be3f</td>\n",
       "      <td>0</td>\n",
       "      <td>18.90</td>\n",
       "    </tr>\n",
       "    <tr>\n",
       "      <th>2</th>\n",
       "      <td>0000f46a3911fa3c0805444483337064</td>\n",
       "      <td>0</td>\n",
       "      <td>69.00</td>\n",
       "    </tr>\n",
       "    <tr>\n",
       "      <th>3</th>\n",
       "      <td>0000f6ccb0745a6a4b88665a16c9f078</td>\n",
       "      <td>0</td>\n",
       "      <td>25.99</td>\n",
       "    </tr>\n",
       "    <tr>\n",
       "      <th>4</th>\n",
       "      <td>0004aac84e0df4da2b147fca70cf8255</td>\n",
       "      <td>0</td>\n",
       "      <td>180.00</td>\n",
       "    </tr>\n",
       "    <tr>\n",
       "      <th>...</th>\n",
       "      <td>...</td>\n",
       "      <td>...</td>\n",
       "      <td>...</td>\n",
       "    </tr>\n",
       "    <tr>\n",
       "      <th>95555</th>\n",
       "      <td>fffcf5a5ff07b0908bd4e2dbc735a684</td>\n",
       "      <td>0</td>\n",
       "      <td>1570.00</td>\n",
       "    </tr>\n",
       "    <tr>\n",
       "      <th>95556</th>\n",
       "      <td>fffea47cd6d3cc0a88bd621562a9d061</td>\n",
       "      <td>0</td>\n",
       "      <td>64.89</td>\n",
       "    </tr>\n",
       "    <tr>\n",
       "      <th>95557</th>\n",
       "      <td>ffff371b4d645b6ecea244b27531430a</td>\n",
       "      <td>0</td>\n",
       "      <td>89.90</td>\n",
       "    </tr>\n",
       "    <tr>\n",
       "      <th>95558</th>\n",
       "      <td>ffff5962728ec6157033ef9805bacc48</td>\n",
       "      <td>0</td>\n",
       "      <td>115.00</td>\n",
       "    </tr>\n",
       "    <tr>\n",
       "      <th>95559</th>\n",
       "      <td>ffffd2657e2aad2907e67c3e9daecbeb</td>\n",
       "      <td>0</td>\n",
       "      <td>56.99</td>\n",
       "    </tr>\n",
       "  </tbody>\n",
       "</table>\n",
       "<p>95560 rows × 3 columns</p>\n",
       "</div>"
      ],
      "text/plain": [
       "                     customer_unique_id  frequency  avg_monetary\n",
       "0      0000366f3b9a7992bf8c76cfdf3221e2          0        129.90\n",
       "1      0000b849f77a49e4a4ce2b2a4ca5be3f          0         18.90\n",
       "2      0000f46a3911fa3c0805444483337064          0         69.00\n",
       "3      0000f6ccb0745a6a4b88665a16c9f078          0         25.99\n",
       "4      0004aac84e0df4da2b147fca70cf8255          0        180.00\n",
       "...                                 ...        ...           ...\n",
       "95555  fffcf5a5ff07b0908bd4e2dbc735a684          0       1570.00\n",
       "95556  fffea47cd6d3cc0a88bd621562a9d061          0         64.89\n",
       "95557  ffff371b4d645b6ecea244b27531430a          0         89.90\n",
       "95558  ffff5962728ec6157033ef9805bacc48          0        115.00\n",
       "95559  ffffd2657e2aad2907e67c3e9daecbeb          0         56.99\n",
       "\n",
       "[95560 rows x 3 columns]"
      ]
     },
     "execution_count": 24,
     "metadata": {},
     "output_type": "execute_result"
    }
   ],
   "source": [
    "df3['avg_monetary'] = df3['total_monetary'] / df3['frequency']\n",
    "df3['frequency'] = df3['frequency'] - 1\n",
    "df3 = df3.drop(columns=['total_monetary'])\n",
    "df3"
   ]
  },
  {
   "cell_type": "code",
   "execution_count": 25,
   "id": "9b60c03d",
   "metadata": {
    "execution": {
     "iopub.execute_input": "2021-10-13T21:48:34.373919Z",
     "iopub.status.busy": "2021-10-13T21:48:34.373252Z",
     "iopub.status.idle": "2021-10-13T21:48:34.376699Z",
     "shell.execute_reply": "2021-10-13T21:48:34.376073Z",
     "shell.execute_reply.started": "2021-10-13T21:22:05.747477Z"
    },
    "papermill": {
     "duration": 0.085335,
     "end_time": "2021-10-13T21:48:34.376839",
     "exception": false,
     "start_time": "2021-10-13T21:48:34.291504",
     "status": "completed"
    },
    "tags": []
   },
   "outputs": [
    {
     "data": {
      "text/html": [
       "<div>\n",
       "<style scoped>\n",
       "    .dataframe tbody tr th:only-of-type {\n",
       "        vertical-align: middle;\n",
       "    }\n",
       "\n",
       "    .dataframe tbody tr th {\n",
       "        vertical-align: top;\n",
       "    }\n",
       "\n",
       "    .dataframe thead th {\n",
       "        text-align: right;\n",
       "    }\n",
       "</style>\n",
       "<table border=\"1\" class=\"dataframe\">\n",
       "  <thead>\n",
       "    <tr style=\"text-align: right;\">\n",
       "      <th></th>\n",
       "      <th>customer_unique_id</th>\n",
       "      <th>frequency</th>\n",
       "      <th>avg_monetary</th>\n",
       "    </tr>\n",
       "  </thead>\n",
       "  <tbody>\n",
       "    <tr>\n",
       "      <th>779</th>\n",
       "      <td>02168ea18740a0fdaaa15f11bebba5db</td>\n",
       "      <td>1</td>\n",
       "      <td>99.8</td>\n",
       "    </tr>\n",
       "  </tbody>\n",
       "</table>\n",
       "</div>"
      ],
      "text/plain": [
       "                   customer_unique_id  frequency  avg_monetary\n",
       "779  02168ea18740a0fdaaa15f11bebba5db          1          99.8"
      ]
     },
     "execution_count": 25,
     "metadata": {},
     "output_type": "execute_result"
    }
   ],
   "source": [
    "# Testing\n",
    "# df3[df3['frequency'] != 0]\n",
    "df3[df3['customer_unique_id'] == '02168ea18740a0fdaaa15f11bebba5db']"
   ]
  },
  {
   "cell_type": "code",
   "execution_count": 26,
   "id": "929f5209",
   "metadata": {
    "execution": {
     "iopub.execute_input": "2021-10-13T21:48:34.487592Z",
     "iopub.status.busy": "2021-10-13T21:48:34.486900Z",
     "iopub.status.idle": "2021-10-13T21:48:34.673922Z",
     "shell.execute_reply": "2021-10-13T21:48:34.674390Z",
     "shell.execute_reply.started": "2021-10-13T21:22:05.781495Z"
    },
    "papermill": {
     "duration": 0.245898,
     "end_time": "2021-10-13T21:48:34.674569",
     "exception": false,
     "start_time": "2021-10-13T21:48:34.428671",
     "status": "completed"
    },
    "tags": []
   },
   "outputs": [
    {
     "data": {
      "text/html": [
       "<div>\n",
       "<style scoped>\n",
       "    .dataframe tbody tr th:only-of-type {\n",
       "        vertical-align: middle;\n",
       "    }\n",
       "\n",
       "    .dataframe tbody tr th {\n",
       "        vertical-align: top;\n",
       "    }\n",
       "\n",
       "    .dataframe thead th {\n",
       "        text-align: right;\n",
       "    }\n",
       "</style>\n",
       "<table border=\"1\" class=\"dataframe\">\n",
       "  <thead>\n",
       "    <tr style=\"text-align: right;\">\n",
       "      <th></th>\n",
       "      <th>customer_unique_id</th>\n",
       "      <th>T</th>\n",
       "      <th>recency</th>\n",
       "      <th>frequency</th>\n",
       "      <th>avg_monetary</th>\n",
       "    </tr>\n",
       "  </thead>\n",
       "  <tbody>\n",
       "    <tr>\n",
       "      <th>0</th>\n",
       "      <td>0000366f3b9a7992bf8c76cfdf3221e2</td>\n",
       "      <td>117</td>\n",
       "      <td>0</td>\n",
       "      <td>0</td>\n",
       "      <td>129.90</td>\n",
       "    </tr>\n",
       "    <tr>\n",
       "      <th>1</th>\n",
       "      <td>0000b849f77a49e4a4ce2b2a4ca5be3f</td>\n",
       "      <td>120</td>\n",
       "      <td>0</td>\n",
       "      <td>0</td>\n",
       "      <td>18.90</td>\n",
       "    </tr>\n",
       "    <tr>\n",
       "      <th>2</th>\n",
       "      <td>0000f46a3911fa3c0805444483337064</td>\n",
       "      <td>543</td>\n",
       "      <td>0</td>\n",
       "      <td>0</td>\n",
       "      <td>69.00</td>\n",
       "    </tr>\n",
       "    <tr>\n",
       "      <th>3</th>\n",
       "      <td>0000f6ccb0745a6a4b88665a16c9f078</td>\n",
       "      <td>327</td>\n",
       "      <td>0</td>\n",
       "      <td>0</td>\n",
       "      <td>25.99</td>\n",
       "    </tr>\n",
       "    <tr>\n",
       "      <th>4</th>\n",
       "      <td>0004aac84e0df4da2b147fca70cf8255</td>\n",
       "      <td>294</td>\n",
       "      <td>0</td>\n",
       "      <td>0</td>\n",
       "      <td>180.00</td>\n",
       "    </tr>\n",
       "    <tr>\n",
       "      <th>...</th>\n",
       "      <td>...</td>\n",
       "      <td>...</td>\n",
       "      <td>...</td>\n",
       "      <td>...</td>\n",
       "      <td>...</td>\n",
       "    </tr>\n",
       "    <tr>\n",
       "      <th>95555</th>\n",
       "      <td>fffcf5a5ff07b0908bd4e2dbc735a684</td>\n",
       "      <td>453</td>\n",
       "      <td>0</td>\n",
       "      <td>0</td>\n",
       "      <td>1570.00</td>\n",
       "    </tr>\n",
       "    <tr>\n",
       "      <th>95556</th>\n",
       "      <td>fffea47cd6d3cc0a88bd621562a9d061</td>\n",
       "      <td>268</td>\n",
       "      <td>0</td>\n",
       "      <td>0</td>\n",
       "      <td>64.89</td>\n",
       "    </tr>\n",
       "    <tr>\n",
       "      <th>95557</th>\n",
       "      <td>ffff371b4d645b6ecea244b27531430a</td>\n",
       "      <td>574</td>\n",
       "      <td>0</td>\n",
       "      <td>0</td>\n",
       "      <td>89.90</td>\n",
       "    </tr>\n",
       "    <tr>\n",
       "      <th>95558</th>\n",
       "      <td>ffff5962728ec6157033ef9805bacc48</td>\n",
       "      <td>125</td>\n",
       "      <td>0</td>\n",
       "      <td>0</td>\n",
       "      <td>115.00</td>\n",
       "    </tr>\n",
       "    <tr>\n",
       "      <th>95559</th>\n",
       "      <td>ffffd2657e2aad2907e67c3e9daecbeb</td>\n",
       "      <td>490</td>\n",
       "      <td>0</td>\n",
       "      <td>0</td>\n",
       "      <td>56.99</td>\n",
       "    </tr>\n",
       "  </tbody>\n",
       "</table>\n",
       "<p>95560 rows × 5 columns</p>\n",
       "</div>"
      ],
      "text/plain": [
       "                     customer_unique_id    T  recency  frequency  avg_monetary\n",
       "0      0000366f3b9a7992bf8c76cfdf3221e2  117        0          0        129.90\n",
       "1      0000b849f77a49e4a4ce2b2a4ca5be3f  120        0          0         18.90\n",
       "2      0000f46a3911fa3c0805444483337064  543        0          0         69.00\n",
       "3      0000f6ccb0745a6a4b88665a16c9f078  327        0          0         25.99\n",
       "4      0004aac84e0df4da2b147fca70cf8255  294        0          0        180.00\n",
       "...                                 ...  ...      ...        ...           ...\n",
       "95555  fffcf5a5ff07b0908bd4e2dbc735a684  453        0          0       1570.00\n",
       "95556  fffea47cd6d3cc0a88bd621562a9d061  268        0          0         64.89\n",
       "95557  ffff371b4d645b6ecea244b27531430a  574        0          0         89.90\n",
       "95558  ffff5962728ec6157033ef9805bacc48  125        0          0        115.00\n",
       "95559  ffffd2657e2aad2907e67c3e9daecbeb  490        0          0         56.99\n",
       "\n",
       "[95560 rows x 5 columns]"
      ]
     },
     "execution_count": 26,
     "metadata": {},
     "output_type": "execute_result"
    }
   ],
   "source": [
    "df_combined1 = pd.merge(df1, df2, on = 'customer_unique_id', how = 'outer')\n",
    "df_combined2 = pd.merge(df_combined1, df3, on = 'customer_unique_id', how = 'outer')\n",
    "df_combined2"
   ]
  },
  {
   "cell_type": "code",
   "execution_count": 27,
   "id": "06372459",
   "metadata": {
    "execution": {
     "iopub.execute_input": "2021-10-13T21:48:34.782347Z",
     "iopub.status.busy": "2021-10-13T21:48:34.781680Z",
     "iopub.status.idle": "2021-10-13T21:48:34.812200Z",
     "shell.execute_reply": "2021-10-13T21:48:34.812733Z",
     "shell.execute_reply.started": "2021-10-13T21:22:05.984761Z"
    },
    "papermill": {
     "duration": 0.086436,
     "end_time": "2021-10-13T21:48:34.812907",
     "exception": false,
     "start_time": "2021-10-13T21:48:34.726471",
     "status": "completed"
    },
    "tags": []
   },
   "outputs": [
    {
     "data": {
      "text/html": [
       "<div>\n",
       "<style scoped>\n",
       "    .dataframe tbody tr th:only-of-type {\n",
       "        vertical-align: middle;\n",
       "    }\n",
       "\n",
       "    .dataframe tbody tr th {\n",
       "        vertical-align: top;\n",
       "    }\n",
       "\n",
       "    .dataframe thead th {\n",
       "        text-align: right;\n",
       "    }\n",
       "</style>\n",
       "<table border=\"1\" class=\"dataframe\">\n",
       "  <thead>\n",
       "    <tr style=\"text-align: right;\">\n",
       "      <th></th>\n",
       "      <th>customer_unique_id</th>\n",
       "      <th>date</th>\n",
       "      <th>revenue</th>\n",
       "    </tr>\n",
       "  </thead>\n",
       "  <tbody>\n",
       "    <tr>\n",
       "      <th>97715</th>\n",
       "      <td>ff922bdd6bafcdf99cb90d7f39cea5b3</td>\n",
       "      <td>2017-02-22</td>\n",
       "      <td>24.90</td>\n",
       "    </tr>\n",
       "    <tr>\n",
       "      <th>97716</th>\n",
       "      <td>ff922bdd6bafcdf99cb90d7f39cea5b3</td>\n",
       "      <td>2017-08-23</td>\n",
       "      <td>40.00</td>\n",
       "    </tr>\n",
       "    <tr>\n",
       "      <th>97717</th>\n",
       "      <td>ff922bdd6bafcdf99cb90d7f39cea5b3</td>\n",
       "      <td>2017-09-14</td>\n",
       "      <td>29.89</td>\n",
       "    </tr>\n",
       "  </tbody>\n",
       "</table>\n",
       "</div>"
      ],
      "text/plain": [
       "                     customer_unique_id        date  revenue\n",
       "97715  ff922bdd6bafcdf99cb90d7f39cea5b3  2017-02-22    24.90\n",
       "97716  ff922bdd6bafcdf99cb90d7f39cea5b3  2017-08-23    40.00\n",
       "97717  ff922bdd6bafcdf99cb90d7f39cea5b3  2017-09-14    29.89"
      ]
     },
     "execution_count": 27,
     "metadata": {},
     "output_type": "execute_result"
    }
   ],
   "source": [
    "# Testing\n",
    "orderCusDetails[orderCusDetails['customer_unique_id'] == 'ff922bdd6bafcdf99cb90d7f39cea5b3']"
   ]
  },
  {
   "cell_type": "code",
   "execution_count": 28,
   "id": "face03bc",
   "metadata": {
    "execution": {
     "iopub.execute_input": "2021-10-13T21:48:34.921271Z",
     "iopub.status.busy": "2021-10-13T21:48:34.920623Z",
     "iopub.status.idle": "2021-10-13T21:48:34.936921Z",
     "shell.execute_reply": "2021-10-13T21:48:34.937461Z",
     "shell.execute_reply.started": "2021-10-13T21:22:06.024015Z"
    },
    "papermill": {
     "duration": 0.072364,
     "end_time": "2021-10-13T21:48:34.937655",
     "exception": false,
     "start_time": "2021-10-13T21:48:34.865291",
     "status": "completed"
    },
    "tags": []
   },
   "outputs": [
    {
     "data": {
      "text/html": [
       "<div>\n",
       "<style scoped>\n",
       "    .dataframe tbody tr th:only-of-type {\n",
       "        vertical-align: middle;\n",
       "    }\n",
       "\n",
       "    .dataframe tbody tr th {\n",
       "        vertical-align: top;\n",
       "    }\n",
       "\n",
       "    .dataframe thead th {\n",
       "        text-align: right;\n",
       "    }\n",
       "</style>\n",
       "<table border=\"1\" class=\"dataframe\">\n",
       "  <thead>\n",
       "    <tr style=\"text-align: right;\">\n",
       "      <th></th>\n",
       "      <th>customer_unique_id</th>\n",
       "      <th>T</th>\n",
       "      <th>recency</th>\n",
       "      <th>frequency</th>\n",
       "      <th>avg_monetary</th>\n",
       "    </tr>\n",
       "  </thead>\n",
       "  <tbody>\n",
       "    <tr>\n",
       "      <th>106</th>\n",
       "      <td>004288347e5e88a27ded2bb23747066c</td>\n",
       "      <td>404</td>\n",
       "      <td>171</td>\n",
       "      <td>1</td>\n",
       "      <td>158.945000</td>\n",
       "    </tr>\n",
       "    <tr>\n",
       "      <th>124</th>\n",
       "      <td>004b45ec5c64187465168251cd1c9c2f</td>\n",
       "      <td>368</td>\n",
       "      <td>267</td>\n",
       "      <td>1</td>\n",
       "      <td>43.450000</td>\n",
       "    </tr>\n",
       "    <tr>\n",
       "      <th>248</th>\n",
       "      <td>00a39521eb40f7012db50455bf083460</td>\n",
       "      <td>104</td>\n",
       "      <td>11</td>\n",
       "      <td>1</td>\n",
       "      <td>40.725000</td>\n",
       "    </tr>\n",
       "    <tr>\n",
       "      <th>412</th>\n",
       "      <td>011575986092c30523ecb71ff10cb473</td>\n",
       "      <td>199</td>\n",
       "      <td>60</td>\n",
       "      <td>1</td>\n",
       "      <td>91.450000</td>\n",
       "    </tr>\n",
       "    <tr>\n",
       "      <th>427</th>\n",
       "      <td>011b4adcd54683b480c4d841250a987f</td>\n",
       "      <td>378</td>\n",
       "      <td>177</td>\n",
       "      <td>1</td>\n",
       "      <td>91.715000</td>\n",
       "    </tr>\n",
       "    <tr>\n",
       "      <th>...</th>\n",
       "      <td>...</td>\n",
       "      <td>...</td>\n",
       "      <td>...</td>\n",
       "      <td>...</td>\n",
       "      <td>...</td>\n",
       "    </tr>\n",
       "    <tr>\n",
       "      <th>95107</th>\n",
       "      <td>fed519569d16e690df6f89cb99d4e682</td>\n",
       "      <td>258</td>\n",
       "      <td>88</td>\n",
       "      <td>1</td>\n",
       "      <td>124.950000</td>\n",
       "    </tr>\n",
       "    <tr>\n",
       "      <th>95175</th>\n",
       "      <td>ff03923ad1eb9e32304deb7f9b2a45c9</td>\n",
       "      <td>134</td>\n",
       "      <td>33</td>\n",
       "      <td>1</td>\n",
       "      <td>110.320000</td>\n",
       "    </tr>\n",
       "    <tr>\n",
       "      <th>95223</th>\n",
       "      <td>ff22e30958c13ffe219db7d711e8f564</td>\n",
       "      <td>11</td>\n",
       "      <td>10</td>\n",
       "      <td>1</td>\n",
       "      <td>145.000000</td>\n",
       "    </tr>\n",
       "    <tr>\n",
       "      <th>95382</th>\n",
       "      <td>ff8892f7c26aa0446da53d01b18df463</td>\n",
       "      <td>468</td>\n",
       "      <td>186</td>\n",
       "      <td>1</td>\n",
       "      <td>138.975000</td>\n",
       "    </tr>\n",
       "    <tr>\n",
       "      <th>95400</th>\n",
       "      <td>ff922bdd6bafcdf99cb90d7f39cea5b3</td>\n",
       "      <td>559</td>\n",
       "      <td>204</td>\n",
       "      <td>2</td>\n",
       "      <td>31.596667</td>\n",
       "    </tr>\n",
       "  </tbody>\n",
       "</table>\n",
       "<p>2092 rows × 5 columns</p>\n",
       "</div>"
      ],
      "text/plain": [
       "                     customer_unique_id    T  recency  frequency  avg_monetary\n",
       "106    004288347e5e88a27ded2bb23747066c  404      171          1    158.945000\n",
       "124    004b45ec5c64187465168251cd1c9c2f  368      267          1     43.450000\n",
       "248    00a39521eb40f7012db50455bf083460  104       11          1     40.725000\n",
       "412    011575986092c30523ecb71ff10cb473  199       60          1     91.450000\n",
       "427    011b4adcd54683b480c4d841250a987f  378      177          1     91.715000\n",
       "...                                 ...  ...      ...        ...           ...\n",
       "95107  fed519569d16e690df6f89cb99d4e682  258       88          1    124.950000\n",
       "95175  ff03923ad1eb9e32304deb7f9b2a45c9  134       33          1    110.320000\n",
       "95223  ff22e30958c13ffe219db7d711e8f564   11       10          1    145.000000\n",
       "95382  ff8892f7c26aa0446da53d01b18df463  468      186          1    138.975000\n",
       "95400  ff922bdd6bafcdf99cb90d7f39cea5b3  559      204          2     31.596667\n",
       "\n",
       "[2092 rows x 5 columns]"
      ]
     },
     "execution_count": 28,
     "metadata": {},
     "output_type": "execute_result"
    }
   ],
   "source": [
    "# Testing\n",
    "df_combined2[df_combined2['recency'] != 0]"
   ]
  },
  {
   "cell_type": "markdown",
   "id": "0ad1be11",
   "metadata": {
    "papermill": {
     "duration": 0.053516,
     "end_time": "2021-10-13T21:48:35.048934",
     "exception": false,
     "start_time": "2021-10-13T21:48:34.995418",
     "status": "completed"
    },
    "tags": []
   },
   "source": [
    "# Basic Frequency/Recency Analysis"
   ]
  },
  {
   "cell_type": "code",
   "execution_count": 29,
   "id": "113e68a2",
   "metadata": {
    "execution": {
     "iopub.execute_input": "2021-10-13T21:48:35.161013Z",
     "iopub.status.busy": "2021-10-13T21:48:35.160304Z",
     "iopub.status.idle": "2021-10-13T21:48:48.028795Z",
     "shell.execute_reply": "2021-10-13T21:48:48.027865Z",
     "shell.execute_reply.started": "2021-10-13T21:22:24.418035Z"
    },
    "papermill": {
     "duration": 12.925209,
     "end_time": "2021-10-13T21:48:48.028989",
     "exception": false,
     "start_time": "2021-10-13T21:48:35.103780",
     "status": "completed"
    },
    "tags": []
   },
   "outputs": [
    {
     "name": "stdout",
     "output_type": "stream",
     "text": [
      "Collecting lifetimes\r\n",
      "  Downloading Lifetimes-0.11.3-py3-none-any.whl (584 kB)\r\n",
      "\u001b[K     |████████████████████████████████| 584 kB 515 kB/s \r\n",
      "\u001b[?25hRequirement already satisfied: pandas>=0.24.0 in /opt/conda/lib/python3.7/site-packages (from lifetimes) (1.3.2)\r\n",
      "Requirement already satisfied: scipy>=1.0.0 in /opt/conda/lib/python3.7/site-packages (from lifetimes) (1.7.1)\r\n",
      "Collecting autograd>=1.2.0\r\n",
      "  Downloading autograd-1.3.tar.gz (38 kB)\r\n",
      "Requirement already satisfied: numpy>=1.10.0 in /opt/conda/lib/python3.7/site-packages (from lifetimes) (1.19.5)\r\n",
      "Requirement already satisfied: dill>=0.2.6 in /opt/conda/lib/python3.7/site-packages (from lifetimes) (0.3.4)\r\n",
      "Requirement already satisfied: future>=0.15.2 in /opt/conda/lib/python3.7/site-packages (from autograd>=1.2.0->lifetimes) (0.18.2)\r\n",
      "Requirement already satisfied: python-dateutil>=2.7.3 in /opt/conda/lib/python3.7/site-packages (from pandas>=0.24.0->lifetimes) (2.8.0)\r\n",
      "Requirement already satisfied: pytz>=2017.3 in /opt/conda/lib/python3.7/site-packages (from pandas>=0.24.0->lifetimes) (2021.1)\r\n",
      "Requirement already satisfied: six>=1.5 in /opt/conda/lib/python3.7/site-packages (from python-dateutil>=2.7.3->pandas>=0.24.0->lifetimes) (1.15.0)\r\n",
      "Building wheels for collected packages: autograd\r\n",
      "  Building wheel for autograd (setup.py) ... \u001b[?25l-\b \b\\\b \b|\b \bdone\r\n",
      "\u001b[?25h  Created wheel for autograd: filename=autograd-1.3-py3-none-any.whl size=47989 sha256=9f38a6390673cd6d9faf407f4bb70708c0e824cfd3c64144073210097a0bf1d3\r\n",
      "  Stored in directory: /root/.cache/pip/wheels/ef/32/31/0e87227cd0ca1d99ad51fbe4b54c6fa02afccf7e483d045e04\r\n",
      "Successfully built autograd\r\n",
      "Installing collected packages: autograd, lifetimes\r\n",
      "Successfully installed autograd-1.3 lifetimes-0.11.3\r\n",
      "\u001b[33mWARNING: Running pip as the 'root' user can result in broken permissions and conflicting behaviour with the system package manager. It is recommended to use a virtual environment instead: https://pip.pypa.io/warnings/venv\u001b[0m\r\n",
      "Note: you may need to restart the kernel to use updated packages.\n"
     ]
    }
   ],
   "source": [
    "pip install lifetimes "
   ]
  },
  {
   "cell_type": "code",
   "execution_count": 30,
   "id": "dbec5f27",
   "metadata": {
    "execution": {
     "iopub.execute_input": "2021-10-13T21:48:48.156226Z",
     "iopub.status.busy": "2021-10-13T21:48:48.155581Z",
     "iopub.status.idle": "2021-10-13T21:48:48.209764Z",
     "shell.execute_reply": "2021-10-13T21:48:48.209159Z",
     "shell.execute_reply.started": "2021-10-13T21:22:39.086523Z"
    },
    "papermill": {
     "duration": 0.120386,
     "end_time": "2021-10-13T21:48:48.209902",
     "exception": false,
     "start_time": "2021-10-13T21:48:48.089516",
     "status": "completed"
    },
    "tags": []
   },
   "outputs": [],
   "source": [
    "import lifetimes"
   ]
  },
  {
   "cell_type": "code",
   "execution_count": 31,
   "id": "644207c9",
   "metadata": {
    "execution": {
     "iopub.execute_input": "2021-10-13T21:48:48.337179Z",
     "iopub.status.busy": "2021-10-13T21:48:48.336547Z",
     "iopub.status.idle": "2021-10-13T21:48:51.765925Z",
     "shell.execute_reply": "2021-10-13T21:48:51.767287Z",
     "shell.execute_reply.started": "2021-10-13T21:22:46.977791Z"
    },
    "papermill": {
     "duration": 3.496899,
     "end_time": "2021-10-13T21:48:51.767596",
     "exception": false,
     "start_time": "2021-10-13T21:48:48.270697",
     "status": "completed"
    },
    "tags": []
   },
   "outputs": [
    {
     "name": "stdout",
     "output_type": "stream",
     "text": [
      "<lifetimes.BetaGeoFitter: fitted with 95560 subjects, a: 0.36, alpha: 70.85, b: 0.06, r: 0.02>\n"
     ]
    },
    {
     "data": {
      "text/html": [
       "<div>\n",
       "<style scoped>\n",
       "    .dataframe tbody tr th:only-of-type {\n",
       "        vertical-align: middle;\n",
       "    }\n",
       "\n",
       "    .dataframe tbody tr th {\n",
       "        vertical-align: top;\n",
       "    }\n",
       "\n",
       "    .dataframe thead th {\n",
       "        text-align: right;\n",
       "    }\n",
       "</style>\n",
       "<table border=\"1\" class=\"dataframe\">\n",
       "  <thead>\n",
       "    <tr style=\"text-align: right;\">\n",
       "      <th></th>\n",
       "      <th>coef</th>\n",
       "      <th>se(coef)</th>\n",
       "      <th>lower 95% bound</th>\n",
       "      <th>upper 95% bound</th>\n",
       "    </tr>\n",
       "  </thead>\n",
       "  <tbody>\n",
       "    <tr>\n",
       "      <th>r</th>\n",
       "      <td>0.016181</td>\n",
       "      <td>0.000882</td>\n",
       "      <td>0.014451</td>\n",
       "      <td>0.017911</td>\n",
       "    </tr>\n",
       "    <tr>\n",
       "      <th>alpha</th>\n",
       "      <td>70.851985</td>\n",
       "      <td>6.866974</td>\n",
       "      <td>57.392717</td>\n",
       "      <td>84.311254</td>\n",
       "    </tr>\n",
       "    <tr>\n",
       "      <th>a</th>\n",
       "      <td>0.356730</td>\n",
       "      <td>0.048714</td>\n",
       "      <td>0.261250</td>\n",
       "      <td>0.452209</td>\n",
       "    </tr>\n",
       "    <tr>\n",
       "      <th>b</th>\n",
       "      <td>0.060021</td>\n",
       "      <td>0.009602</td>\n",
       "      <td>0.041202</td>\n",
       "      <td>0.078841</td>\n",
       "    </tr>\n",
       "  </tbody>\n",
       "</table>\n",
       "</div>"
      ],
      "text/plain": [
       "            coef  se(coef)  lower 95% bound  upper 95% bound\n",
       "r       0.016181  0.000882         0.014451         0.017911\n",
       "alpha  70.851985  6.866974        57.392717        84.311254\n",
       "a       0.356730  0.048714         0.261250         0.452209\n",
       "b       0.060021  0.009602         0.041202         0.078841"
      ]
     },
     "execution_count": 31,
     "metadata": {},
     "output_type": "execute_result"
    }
   ],
   "source": [
    "from lifetimes import BetaGeoFitter\n",
    "\n",
    "bgf = BetaGeoFitter(penalizer_coef = 0.001)\n",
    "bgf.fit(df_combined2['frequency'], df_combined2['recency'], df_combined2['T'])\n",
    "print(bgf)\n",
    "bgf.summary"
   ]
  },
  {
   "cell_type": "markdown",
   "id": "6d04b31d",
   "metadata": {
    "papermill": {
     "duration": 0.061057,
     "end_time": "2021-10-13T21:48:51.934020",
     "exception": false,
     "start_time": "2021-10-13T21:48:51.872963",
     "status": "completed"
    },
    "tags": []
   },
   "source": [
    "### Visualizing Frequency/Recency Matrix\n",
    "\n",
    "which computes the expected number of transactions an artificial customer is to make in the next time period, given his or her recency and frequency. "
   ]
  },
  {
   "cell_type": "markdown",
   "id": "cd036015",
   "metadata": {
    "papermill": {
     "duration": 0.060325,
     "end_time": "2021-10-13T21:48:52.055726",
     "exception": false,
     "start_time": "2021-10-13T21:48:51.995401",
     "status": "completed"
    },
    "tags": []
   },
   "source": [
    "#### Expected Number of Future Purchases for 1 Unit of Time"
   ]
  },
  {
   "cell_type": "code",
   "execution_count": 32,
   "id": "3988ee3a",
   "metadata": {
    "execution": {
     "iopub.execute_input": "2021-10-13T21:48:52.184260Z",
     "iopub.status.busy": "2021-10-13T21:48:52.183152Z",
     "iopub.status.idle": "2021-10-13T21:48:53.911811Z",
     "shell.execute_reply": "2021-10-13T21:48:53.912325Z",
     "shell.execute_reply.started": "2021-10-13T21:22:50.361015Z"
    },
    "papermill": {
     "duration": 1.795752,
     "end_time": "2021-10-13T21:48:53.912528",
     "exception": false,
     "start_time": "2021-10-13T21:48:52.116776",
     "status": "completed"
    },
    "tags": []
   },
   "outputs": [
    {
     "data": {
      "text/plain": [
       "<AxesSubplot:title={'center':'Expected Number of Future Purchases for 1 Unit of Time,\\nby Frequency and Recency of a Customer'}, xlabel=\"Customer's Historical Frequency\", ylabel=\"Customer's Recency\">"
      ]
     },
     "execution_count": 32,
     "metadata": {},
     "output_type": "execute_result"
    },
    {
     "data": {
      "image/png": "[encoded data removed]",
      "text/plain": [
       "<Figure size 432x288 with 2 Axes>"
      ]
     },
     "metadata": {
      "needs_background": "light"
     },
     "output_type": "display_data"
    }
   ],
   "source": [
    "from lifetimes.plotting import plot_frequency_recency_matrix\n",
    "\n",
    "plot_frequency_recency_matrix(bgf)"
   ]
  },
  {
   "cell_type": "markdown",
   "id": "2bc6e55b",
   "metadata": {
    "papermill": {
     "duration": 0.063111,
     "end_time": "2021-10-13T21:48:54.038386",
     "exception": false,
     "start_time": "2021-10-13T21:48:53.975275",
     "status": "completed"
    },
    "tags": []
   },
   "source": [
    "We can see that if a customer has bought 15 times from us, and their latest purchase was when they were 700 days old, then they are our best customer (bottom-right).\n",
    "\n",
    "Area around (4,350) - Customers who buy infrequently, but we've seem them recently. They might be dead or just between purchases"
   ]
  },
  {
   "cell_type": "markdown",
   "id": "6e1a8e92",
   "metadata": {
    "papermill": {
     "duration": 0.063071,
     "end_time": "2021-10-13T21:48:54.164437",
     "exception": false,
     "start_time": "2021-10-13T21:48:54.101366",
     "status": "completed"
    },
    "tags": []
   },
   "source": [
    "#### Probability of Still Being Alive"
   ]
  },
  {
   "cell_type": "code",
   "execution_count": 33,
   "id": "a58b9c71",
   "metadata": {
    "execution": {
     "iopub.execute_input": "2021-10-13T21:48:54.295840Z",
     "iopub.status.busy": "2021-10-13T21:48:54.295098Z",
     "iopub.status.idle": "2021-10-13T21:48:54.640948Z",
     "shell.execute_reply": "2021-10-13T21:48:54.641445Z",
     "shell.execute_reply.started": "2021-10-13T21:22:54.005446Z"
    },
    "papermill": {
     "duration": 0.414335,
     "end_time": "2021-10-13T21:48:54.641639",
     "exception": false,
     "start_time": "2021-10-13T21:48:54.227304",
     "status": "completed"
    },
    "tags": []
   },
   "outputs": [
    {
     "data": {
      "text/plain": [
       "<AxesSubplot:title={'center':'Probability Customer is Alive,\\nby Frequency and Recency of a Customer'}, xlabel=\"Customer's Historical Frequency\", ylabel=\"Customer's Recency\">"
      ]
     },
     "execution_count": 33,
     "metadata": {},
     "output_type": "execute_result"
    },
    {
     "data": {
      "image/png": "[encoded data removed]",
      "text/plain": [
       "<Figure size 432x288 with 2 Axes>"
      ]
     },
     "metadata": {
      "needs_background": "light"
     },
     "output_type": "display_data"
    }
   ],
   "source": [
    "from lifetimes.plotting import plot_probability_alive_matrix\n",
    "\n",
    "plot_probability_alive_matrix(bgf)"
   ]
  },
  {
   "cell_type": "markdown",
   "id": "91717473",
   "metadata": {
    "papermill": {
     "duration": 0.063213,
     "end_time": "2021-10-13T21:48:54.768759",
     "exception": false,
     "start_time": "2021-10-13T21:48:54.705546",
     "status": "completed"
    },
    "tags": []
   },
   "source": [
    "#### Customers Who Will Most Lilely to Buy Again"
   ]
  },
  {
   "cell_type": "code",
   "execution_count": 34,
   "id": "915d24f4",
   "metadata": {
    "execution": {
     "iopub.execute_input": "2021-10-13T21:48:54.901986Z",
     "iopub.status.busy": "2021-10-13T21:48:54.898754Z",
     "iopub.status.idle": "2021-10-13T21:48:54.991788Z",
     "shell.execute_reply": "2021-10-13T21:48:54.991083Z",
     "shell.execute_reply.started": "2021-10-13T21:22:56.386224Z"
    },
    "papermill": {
     "duration": 0.159752,
     "end_time": "2021-10-13T21:48:54.991932",
     "exception": false,
     "start_time": "2021-10-13T21:48:54.832180",
     "status": "completed"
    },
    "tags": []
   },
   "outputs": [
    {
     "data": {
      "text/html": [
       "<div>\n",
       "<style scoped>\n",
       "    .dataframe tbody tr th:only-of-type {\n",
       "        vertical-align: middle;\n",
       "    }\n",
       "\n",
       "    .dataframe tbody tr th {\n",
       "        vertical-align: top;\n",
       "    }\n",
       "\n",
       "    .dataframe thead th {\n",
       "        text-align: right;\n",
       "    }\n",
       "</style>\n",
       "<table border=\"1\" class=\"dataframe\">\n",
       "  <thead>\n",
       "    <tr style=\"text-align: right;\">\n",
       "      <th></th>\n",
       "      <th>customer_unique_id</th>\n",
       "      <th>T</th>\n",
       "      <th>recency</th>\n",
       "      <th>frequency</th>\n",
       "      <th>avg_monetary</th>\n",
       "      <th>predicted_purchases</th>\n",
       "    </tr>\n",
       "  </thead>\n",
       "  <tbody>\n",
       "    <tr>\n",
       "      <th>52676</th>\n",
       "      <td>8d50f5eadf50201ccdcedfb9e2ac8455</td>\n",
       "      <td>477</td>\n",
       "      <td>462</td>\n",
       "      <td>16</td>\n",
       "      <td>42.918824</td>\n",
       "      <td>0.028183</td>\n",
       "    </tr>\n",
       "    <tr>\n",
       "      <th>75650</th>\n",
       "      <td>ca77025e7201e3b30c44b472ff346268</td>\n",
       "      <td>330</td>\n",
       "      <td>235</td>\n",
       "      <td>6</td>\n",
       "      <td>115.230000</td>\n",
       "      <td>0.011040</td>\n",
       "    </tr>\n",
       "    <tr>\n",
       "      <th>21458</th>\n",
       "      <td>394ac4de8f3acb14253c177f0e15bc58</td>\n",
       "      <td>256</td>\n",
       "      <td>236</td>\n",
       "      <td>4</td>\n",
       "      <td>126.632000</td>\n",
       "      <td>0.010676</td>\n",
       "    </tr>\n",
       "    <tr>\n",
       "      <th>83899</th>\n",
       "      <td>e0836a97eaae86ac4adc26fbb334a527</td>\n",
       "      <td>70</td>\n",
       "      <td>62</td>\n",
       "      <td>2</td>\n",
       "      <td>20.993333</td>\n",
       "      <td>0.010366</td>\n",
       "    </tr>\n",
       "    <tr>\n",
       "      <th>37598</th>\n",
       "      <td>6469f99c1f9dfae7733b25662e7f1782</td>\n",
       "      <td>350</td>\n",
       "      <td>282</td>\n",
       "      <td>5</td>\n",
       "      <td>110.700000</td>\n",
       "      <td>0.009824</td>\n",
       "    </tr>\n",
       "  </tbody>\n",
       "</table>\n",
       "</div>"
      ],
      "text/plain": [
       "                     customer_unique_id    T  recency  frequency  \\\n",
       "52676  8d50f5eadf50201ccdcedfb9e2ac8455  477      462         16   \n",
       "75650  ca77025e7201e3b30c44b472ff346268  330      235          6   \n",
       "21458  394ac4de8f3acb14253c177f0e15bc58  256      236          4   \n",
       "83899  e0836a97eaae86ac4adc26fbb334a527   70       62          2   \n",
       "37598  6469f99c1f9dfae7733b25662e7f1782  350      282          5   \n",
       "\n",
       "       avg_monetary  predicted_purchases  \n",
       "52676     42.918824             0.028183  \n",
       "75650    115.230000             0.011040  \n",
       "21458    126.632000             0.010676  \n",
       "83899     20.993333             0.010366  \n",
       "37598    110.700000             0.009824  "
      ]
     },
     "execution_count": 34,
     "metadata": {},
     "output_type": "execute_result"
    }
   ],
   "source": [
    "t = 1\n",
    "df_combined2['predicted_purchases'] = bgf.conditional_expected_number_of_purchases_up_to_time(t, df_combined2['frequency'], df_combined2['recency'], df_combined2['T'])\n",
    "df_combined2.sort_values(by='predicted_purchases', ascending=False).head()"
   ]
  },
  {
   "cell_type": "markdown",
   "id": "fdb98217",
   "metadata": {
    "papermill": {
     "duration": 0.065942,
     "end_time": "2021-10-13T21:48:55.121980",
     "exception": false,
     "start_time": "2021-10-13T21:48:55.056038",
     "status": "completed"
    },
    "tags": []
   },
   "source": [
    "These are the customers who are probably going to buy again in the next period. "
   ]
  },
  {
   "cell_type": "markdown",
   "id": "c3d77c41",
   "metadata": {
    "papermill": {
     "duration": 0.064241,
     "end_time": "2021-10-13T21:48:55.250506",
     "exception": false,
     "start_time": "2021-10-13T21:48:55.186265",
     "status": "completed"
    },
    "tags": []
   },
   "source": [
    "#### Predicting Customer's Future Behavior"
   ]
  },
  {
   "cell_type": "code",
   "execution_count": 35,
   "id": "8947c1a8",
   "metadata": {
    "execution": {
     "iopub.execute_input": "2021-10-13T21:48:55.387595Z",
     "iopub.status.busy": "2021-10-13T21:48:55.386827Z",
     "iopub.status.idle": "2021-10-13T21:48:55.389661Z",
     "shell.execute_reply": "2021-10-13T21:48:55.390135Z",
     "shell.execute_reply.started": "2021-10-13T21:23:11.748965Z"
    },
    "papermill": {
     "duration": 0.074812,
     "end_time": "2021-10-13T21:48:55.390297",
     "exception": false,
     "start_time": "2021-10-13T21:48:55.315485",
     "status": "completed"
    },
    "tags": []
   },
   "outputs": [
    {
     "data": {
      "text/plain": [
       "0.010457172814431762"
      ]
     },
     "execution_count": 35,
     "metadata": {},
     "output_type": "execute_result"
    }
   ],
   "source": [
    "t = 100 #predict purchases in 100 days\n",
    "individual = df_combined2.iloc[66666]\n",
    "# The below function is an alias to `bfg.conditional_expected_number_of_purchases_up_to_time`\n",
    "bgf.predict(t, individual['frequency'], individual['recency'], individual['T'])"
   ]
  },
  {
   "cell_type": "markdown",
   "id": "18989961",
   "metadata": {
    "papermill": {
     "duration": 0.064692,
     "end_time": "2021-10-13T21:48:55.519856",
     "exception": false,
     "start_time": "2021-10-13T21:48:55.455164",
     "status": "completed"
    },
    "tags": []
   },
   "source": [
    "# Estimating Customer Lifetime Value Using the Gamma-Gamma Model\n",
    "\n",
    "This model assumes that there is no relationship between the monetary value and the purchase frequency. \n",
    "In practice we need to check whether the Pearson correlation between the two vectors is close to 0 in order to use this model."
   ]
  },
  {
   "cell_type": "code",
   "execution_count": 36,
   "id": "27329805",
   "metadata": {
    "execution": {
     "iopub.execute_input": "2021-10-13T21:48:55.652318Z",
     "iopub.status.busy": "2021-10-13T21:48:55.651567Z",
     "iopub.status.idle": "2021-10-13T21:48:55.666417Z",
     "shell.execute_reply": "2021-10-13T21:48:55.666913Z",
     "shell.execute_reply.started": "2021-10-13T21:23:11.759335Z"
    },
    "papermill": {
     "duration": 0.083115,
     "end_time": "2021-10-13T21:48:55.667093",
     "exception": false,
     "start_time": "2021-10-13T21:48:55.583978",
     "status": "completed"
    },
    "tags": []
   },
   "outputs": [
    {
     "data": {
      "text/html": [
       "<div>\n",
       "<style scoped>\n",
       "    .dataframe tbody tr th:only-of-type {\n",
       "        vertical-align: middle;\n",
       "    }\n",
       "\n",
       "    .dataframe tbody tr th {\n",
       "        vertical-align: top;\n",
       "    }\n",
       "\n",
       "    .dataframe thead th {\n",
       "        text-align: right;\n",
       "    }\n",
       "</style>\n",
       "<table border=\"1\" class=\"dataframe\">\n",
       "  <thead>\n",
       "    <tr style=\"text-align: right;\">\n",
       "      <th></th>\n",
       "      <th>customer_unique_id</th>\n",
       "      <th>T</th>\n",
       "      <th>recency</th>\n",
       "      <th>frequency</th>\n",
       "      <th>avg_monetary</th>\n",
       "      <th>predicted_purchases</th>\n",
       "    </tr>\n",
       "  </thead>\n",
       "  <tbody>\n",
       "    <tr>\n",
       "      <th>106</th>\n",
       "      <td>004288347e5e88a27ded2bb23747066c</td>\n",
       "      <td>404</td>\n",
       "      <td>171</td>\n",
       "      <td>1</td>\n",
       "      <td>158.945</td>\n",
       "      <td>0.000167</td>\n",
       "    </tr>\n",
       "    <tr>\n",
       "      <th>124</th>\n",
       "      <td>004b45ec5c64187465168251cd1c9c2f</td>\n",
       "      <td>368</td>\n",
       "      <td>267</td>\n",
       "      <td>1</td>\n",
       "      <td>43.450</td>\n",
       "      <td>0.000264</td>\n",
       "    </tr>\n",
       "    <tr>\n",
       "      <th>248</th>\n",
       "      <td>00a39521eb40f7012db50455bf083460</td>\n",
       "      <td>104</td>\n",
       "      <td>11</td>\n",
       "      <td>1</td>\n",
       "      <td>40.725</td>\n",
       "      <td>0.000419</td>\n",
       "    </tr>\n",
       "    <tr>\n",
       "      <th>412</th>\n",
       "      <td>011575986092c30523ecb71ff10cb473</td>\n",
       "      <td>199</td>\n",
       "      <td>60</td>\n",
       "      <td>1</td>\n",
       "      <td>91.450</td>\n",
       "      <td>0.000281</td>\n",
       "    </tr>\n",
       "    <tr>\n",
       "      <th>427</th>\n",
       "      <td>011b4adcd54683b480c4d841250a987f</td>\n",
       "      <td>378</td>\n",
       "      <td>177</td>\n",
       "      <td>1</td>\n",
       "      <td>91.715</td>\n",
       "      <td>0.000191</td>\n",
       "    </tr>\n",
       "  </tbody>\n",
       "</table>\n",
       "</div>"
      ],
      "text/plain": [
       "                   customer_unique_id    T  recency  frequency  avg_monetary  \\\n",
       "106  004288347e5e88a27ded2bb23747066c  404      171          1       158.945   \n",
       "124  004b45ec5c64187465168251cd1c9c2f  368      267          1        43.450   \n",
       "248  00a39521eb40f7012db50455bf083460  104       11          1        40.725   \n",
       "412  011575986092c30523ecb71ff10cb473  199       60          1        91.450   \n",
       "427  011b4adcd54683b480c4d841250a987f  378      177          1        91.715   \n",
       "\n",
       "     predicted_purchases  \n",
       "106             0.000167  \n",
       "124             0.000264  \n",
       "248             0.000419  \n",
       "412             0.000281  \n",
       "427             0.000191  "
      ]
     },
     "execution_count": 36,
     "metadata": {},
     "output_type": "execute_result"
    }
   ],
   "source": [
    "returning_customers_summary = df_combined2[(df_combined2['frequency'] > 0) & (df_combined2['avg_monetary'] > 0)]\n",
    "returning_customers_summary.head()"
   ]
  },
  {
   "cell_type": "code",
   "execution_count": 37,
   "id": "66f1d81c",
   "metadata": {
    "execution": {
     "iopub.execute_input": "2021-10-13T21:48:55.810054Z",
     "iopub.status.busy": "2021-10-13T21:48:55.804576Z",
     "iopub.status.idle": "2021-10-13T21:48:55.814602Z",
     "shell.execute_reply": "2021-10-13T21:48:55.815072Z",
     "shell.execute_reply.started": "2021-10-13T21:23:11.789363Z"
    },
    "papermill": {
     "duration": 0.082103,
     "end_time": "2021-10-13T21:48:55.815246",
     "exception": false,
     "start_time": "2021-10-13T21:48:55.733143",
     "status": "completed"
    },
    "tags": []
   },
   "outputs": [
    {
     "data": {
      "text/html": [
       "<div>\n",
       "<style scoped>\n",
       "    .dataframe tbody tr th:only-of-type {\n",
       "        vertical-align: middle;\n",
       "    }\n",
       "\n",
       "    .dataframe tbody tr th {\n",
       "        vertical-align: top;\n",
       "    }\n",
       "\n",
       "    .dataframe thead th {\n",
       "        text-align: right;\n",
       "    }\n",
       "</style>\n",
       "<table border=\"1\" class=\"dataframe\">\n",
       "  <thead>\n",
       "    <tr style=\"text-align: right;\">\n",
       "      <th></th>\n",
       "      <th>avg_monetary</th>\n",
       "      <th>frequency</th>\n",
       "    </tr>\n",
       "  </thead>\n",
       "  <tbody>\n",
       "    <tr>\n",
       "      <th>avg_monetary</th>\n",
       "      <td>1.000000</td>\n",
       "      <td>-0.003708</td>\n",
       "    </tr>\n",
       "    <tr>\n",
       "      <th>frequency</th>\n",
       "      <td>-0.003708</td>\n",
       "      <td>1.000000</td>\n",
       "    </tr>\n",
       "  </tbody>\n",
       "</table>\n",
       "</div>"
      ],
      "text/plain": [
       "              avg_monetary  frequency\n",
       "avg_monetary      1.000000  -0.003708\n",
       "frequency        -0.003708   1.000000"
      ]
     },
     "execution_count": 37,
     "metadata": {},
     "output_type": "execute_result"
    }
   ],
   "source": [
    "returning_customers_summary[['avg_monetary', 'frequency']].corr()"
   ]
  },
  {
   "cell_type": "markdown",
   "id": "9b89ca1a",
   "metadata": {
    "papermill": {
     "duration": 0.067225,
     "end_time": "2021-10-13T21:48:55.947818",
     "exception": false,
     "start_time": "2021-10-13T21:48:55.880593",
     "status": "completed"
    },
    "tags": []
   },
   "source": [
    "Since the correlation between monetary and frequency is not strong, we can use Gamma-Gamma model to predict the conditional, expected average lifetime value of customers "
   ]
  },
  {
   "cell_type": "code",
   "execution_count": 38,
   "id": "2d371957",
   "metadata": {
    "execution": {
     "iopub.execute_input": "2021-10-13T21:48:56.089451Z",
     "iopub.status.busy": "2021-10-13T21:48:56.088771Z",
     "iopub.status.idle": "2021-10-13T21:48:56.196589Z",
     "shell.execute_reply": "2021-10-13T21:48:56.197220Z",
     "shell.execute_reply.started": "2021-10-13T21:23:11.802617Z"
    },
    "papermill": {
     "duration": 0.182653,
     "end_time": "2021-10-13T21:48:56.197526",
     "exception": false,
     "start_time": "2021-10-13T21:48:56.014873",
     "status": "completed"
    },
    "tags": []
   },
   "outputs": [
    {
     "name": "stdout",
     "output_type": "stream",
     "text": [
      "<lifetimes.GammaGammaFitter: fitted with 2090 subjects, p: 3.97, q: 3.59, v: 83.69>\n"
     ]
    }
   ],
   "source": [
    "from lifetimes import GammaGammaFitter\n",
    "\n",
    "ggf = GammaGammaFitter(penalizer_coef = 0)\n",
    "ggf.fit(returning_customers_summary['frequency'],\n",
    "        returning_customers_summary['avg_monetary'])\n",
    "print(ggf)"
   ]
  },
  {
   "cell_type": "code",
   "execution_count": 39,
   "id": "49eb20a6",
   "metadata": {
    "execution": {
     "iopub.execute_input": "2021-10-13T21:48:56.387201Z",
     "iopub.status.busy": "2021-10-13T21:48:56.386386Z",
     "iopub.status.idle": "2021-10-13T21:48:56.389674Z",
     "shell.execute_reply": "2021-10-13T21:48:56.390178Z",
     "shell.execute_reply.started": "2021-10-13T21:23:11.909186Z"
    },
    "papermill": {
     "duration": 0.078852,
     "end_time": "2021-10-13T21:48:56.390366",
     "exception": false,
     "start_time": "2021-10-13T21:48:56.311514",
     "status": "completed"
    },
    "tags": []
   },
   "outputs": [
    {
     "data": {
      "text/plain": [
       "106    146.696572\n",
       "124     76.868495\n",
       "248     75.220965\n",
       "412    105.889212\n",
       "427    106.049430\n",
       "dtype: float64"
      ]
     },
     "execution_count": 39,
     "metadata": {},
     "output_type": "execute_result"
    }
   ],
   "source": [
    "ggf.conditional_expected_average_profit(\n",
    "         returning_customers_summary['frequency'],\n",
    "         returning_customers_summary['avg_monetary']).head()"
   ]
  },
  {
   "cell_type": "code",
   "execution_count": 40,
   "id": "a069e988",
   "metadata": {
    "execution": {
     "iopub.execute_input": "2021-10-13T21:48:56.527843Z",
     "iopub.status.busy": "2021-10-13T21:48:56.526814Z",
     "iopub.status.idle": "2021-10-13T21:48:56.538608Z",
     "shell.execute_reply": "2021-10-13T21:48:56.539127Z",
     "shell.execute_reply.started": "2021-10-13T21:23:11.932254Z"
    },
    "papermill": {
     "duration": 0.082139,
     "end_time": "2021-10-13T21:48:56.539320",
     "exception": false,
     "start_time": "2021-10-13T21:48:56.457181",
     "status": "completed"
    },
    "tags": []
   },
   "outputs": [
    {
     "name": "stdout",
     "output_type": "stream",
     "text": [
      "Expected conditional average profit: 127.97167657062245, Average profit: 128.21412782923915\n"
     ]
    }
   ],
   "source": [
    "print(\"Expected conditional average profit: %s, Average profit: %s\" % (\n",
    "    ggf.conditional_expected_average_profit(\n",
    "        df_combined2['frequency'],\n",
    "        df_combined2['avg_monetary']\n",
    "    ).mean(),\n",
    "    df_combined2[df_combined2['frequency']>0]['avg_monetary'].mean()\n",
    "))\n"
   ]
  },
  {
   "cell_type": "markdown",
   "id": "c80ea901",
   "metadata": {
    "papermill": {
     "duration": 0.068361,
     "end_time": "2021-10-13T21:48:56.675593",
     "exception": false,
     "start_time": "2021-10-13T21:48:56.607232",
     "status": "completed"
    },
    "tags": []
   },
   "source": [
    "# References:\n",
    "1. https://lifetimes.readthedocs.io/en/latest/Quickstart.html#estimating-customer-lifetime-value-using-the-gamma-gamma-model\n",
    "2. “Counting Your Customers” the Easy Way: An Alternative to the Pareto/NBD Model by Fader et al. in 2005. http://brucehardie.com/papers/018/fader_et_al_mksc_05.pdf\n",
    "\n"
   ]
  },
  {
   "cell_type": "code",
   "execution_count": null,
   "id": "6ad717b6",
   "metadata": {
    "papermill": {
     "duration": 0.066719,
     "end_time": "2021-10-13T21:48:56.810209",
     "exception": false,
     "start_time": "2021-10-13T21:48:56.743490",
     "status": "completed"
    },
    "tags": []
   },
   "outputs": [],
   "source": []
  }
 ],
 "metadata": {
  "kernelspec": {
   "display_name": "Python 3",
   "language": "python",
   "name": "python3"
  },
  "language_info": {
   "codemirror_mode": {
    "name": "ipython",
    "version": 3
   },
   "file_extension": ".py",
   "mimetype": "text/x-python",
   "name": "python",
   "nbconvert_exporter": "python",
   "pygments_lexer": "ipython3",
   "version": "3.7.10"
  },
  "papermill": {
   "default_parameters": {},
   "duration": 61.917804,
   "end_time": "2021-10-13T21:48:58.291566",
   "environment_variables": {},
   "exception": null,
   "input_path": "__notebook__.ipynb",
   "output_path": "__notebook__.ipynb",
   "parameters": {},
   "start_time": "2021-10-13T21:47:56.373762",
   "version": "2.3.3"
  }
 },
 "nbformat": 4,
 "nbformat_minor": 5
}
